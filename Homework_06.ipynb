{
 "cells": [
  {
   "cell_type": "markdown",
   "metadata": {},
   "source": [
    "# Homework for Week 6\n",
    "\n",
    "Based on GLM (Chapter 10) and counting models (e.g., binomial in Chapter 11).\n"
   ]
  },
  {
   "cell_type": "markdown",
   "metadata": {},
   "source": [
    "## Setup\n",
    "\n"
   ]
  },
  {
   "cell_type": "code",
   "execution_count": 1,
   "metadata": {
    "scrolled": true
   },
   "outputs": [],
   "source": [
    "import numpy as np\n",
    "import pandas as pd\n",
    "import arviz as az\n",
    "import matplotlib.pyplot as plt\n",
    "import pymc3 as pm\n",
    "from scipy.special import expit as logistic\n",
    "\n",
    "import warnings\n",
    "warnings.simplefilter(action=\"ignore\", category=FutureWarning)  #suppress Arviz warnings\n",
    "\n",
    "from causalgraphicalmodels import CausalGraphicalModel\n",
    "import daft"
   ]
  },
  {
   "cell_type": "code",
   "execution_count": 2,
   "metadata": {},
   "outputs": [
    {
     "data": {
      "text/html": [
       "<div>\n",
       "<style scoped>\n",
       "    .dataframe tbody tr th:only-of-type {\n",
       "        vertical-align: middle;\n",
       "    }\n",
       "\n",
       "    .dataframe tbody tr th {\n",
       "        vertical-align: top;\n",
       "    }\n",
       "\n",
       "    .dataframe thead th {\n",
       "        text-align: right;\n",
       "    }\n",
       "</style>\n",
       "<table border=\"1\" class=\"dataframe\">\n",
       "  <thead>\n",
       "    <tr style=\"text-align: right;\">\n",
       "      <th></th>\n",
       "      <th>discipline</th>\n",
       "      <th>gender</th>\n",
       "      <th>applications</th>\n",
       "      <th>awards</th>\n",
       "    </tr>\n",
       "  </thead>\n",
       "  <tbody>\n",
       "    <tr>\n",
       "      <th>0</th>\n",
       "      <td>Chemical sciences</td>\n",
       "      <td>m</td>\n",
       "      <td>83</td>\n",
       "      <td>22</td>\n",
       "    </tr>\n",
       "    <tr>\n",
       "      <th>1</th>\n",
       "      <td>Chemical sciences</td>\n",
       "      <td>f</td>\n",
       "      <td>39</td>\n",
       "      <td>10</td>\n",
       "    </tr>\n",
       "    <tr>\n",
       "      <th>2</th>\n",
       "      <td>Physical sciences</td>\n",
       "      <td>m</td>\n",
       "      <td>135</td>\n",
       "      <td>26</td>\n",
       "    </tr>\n",
       "    <tr>\n",
       "      <th>3</th>\n",
       "      <td>Physical sciences</td>\n",
       "      <td>f</td>\n",
       "      <td>39</td>\n",
       "      <td>9</td>\n",
       "    </tr>\n",
       "    <tr>\n",
       "      <th>4</th>\n",
       "      <td>Physics</td>\n",
       "      <td>m</td>\n",
       "      <td>67</td>\n",
       "      <td>18</td>\n",
       "    </tr>\n",
       "  </tbody>\n",
       "</table>\n",
       "</div>"
      ],
      "text/plain": [
       "          discipline gender  applications  awards\n",
       "0  Chemical sciences      m            83      22\n",
       "1  Chemical sciences      f            39      10\n",
       "2  Physical sciences      m           135      26\n",
       "3  Physical sciences      f            39       9\n",
       "4            Physics      m            67      18"
      ]
     },
     "execution_count": 2,
     "metadata": {},
     "output_type": "execute_result"
    }
   ],
   "source": [
    "d = pd.read_csv(\"Data/NWOGrants.csv\",\n",
    "               sep=\";\")\n",
    "d.head()"
   ]
  },
  {
   "cell_type": "markdown",
   "metadata": {},
   "source": [
    "### Create index variables"
   ]
  },
  {
   "cell_type": "code",
   "execution_count": 3,
   "metadata": {},
   "outputs": [],
   "source": [
    "d[\"discipline\"] = d[\"discipline\"].astype(\"category\")\n",
    "d[\"gender\"] = d[\"gender\"].astype(\"category\")"
   ]
  },
  {
   "cell_type": "code",
   "execution_count": 4,
   "metadata": {},
   "outputs": [],
   "source": [
    "d[\"disc_idx\"] = d[\"discipline\"].cat.codes\n",
    "d[\"gender_idx\"] = d[\"gender\"].cat.codes"
   ]
  },
  {
   "cell_type": "markdown",
   "metadata": {},
   "source": [
    "Create number of values for each index variable"
   ]
  },
  {
   "cell_type": "code",
   "execution_count": 5,
   "metadata": {},
   "outputs": [
    {
     "data": {
      "text/plain": [
       "(9, 2)"
      ]
     },
     "execution_count": 5,
     "metadata": {},
     "output_type": "execute_result"
    }
   ],
   "source": [
    "n_disc = len(d[\"discipline\"].cat.categories)\n",
    "n_gender = len(d[\"gender\"].cat.categories)\n",
    "n_disc, n_gender"
   ]
  },
  {
   "cell_type": "markdown",
   "metadata": {},
   "source": [
    "List all disciplines:"
   ]
  },
  {
   "cell_type": "code",
   "execution_count": 6,
   "metadata": {},
   "outputs": [
    {
     "data": {
      "text/plain": [
       "{0: 'Chemical sciences',\n",
       " 1: 'Earth/life sciences',\n",
       " 2: 'Humanities',\n",
       " 3: 'Interdisciplinary',\n",
       " 4: 'Medical sciences',\n",
       " 5: 'Physical sciences',\n",
       " 6: 'Physics',\n",
       " 7: 'Social sciences',\n",
       " 8: 'Technical sciences'}"
      ]
     },
     "execution_count": 6,
     "metadata": {},
     "output_type": "execute_result"
    }
   ],
   "source": [
    "dict(enumerate(d[\"discipline\"].cat.categories))"
   ]
  },
  {
   "cell_type": "markdown",
   "metadata": {},
   "source": [
    "### Trim data frame\n"
   ]
  },
  {
   "cell_type": "code",
   "execution_count": 7,
   "metadata": {},
   "outputs": [
    {
     "data": {
      "text/html": [
       "<div>\n",
       "<style scoped>\n",
       "    .dataframe tbody tr th:only-of-type {\n",
       "        vertical-align: middle;\n",
       "    }\n",
       "\n",
       "    .dataframe tbody tr th {\n",
       "        vertical-align: top;\n",
       "    }\n",
       "\n",
       "    .dataframe thead th {\n",
       "        text-align: right;\n",
       "    }\n",
       "</style>\n",
       "<table border=\"1\" class=\"dataframe\">\n",
       "  <thead>\n",
       "    <tr style=\"text-align: right;\">\n",
       "      <th></th>\n",
       "      <th>discipline</th>\n",
       "      <th>gender</th>\n",
       "      <th>applications</th>\n",
       "      <th>awards</th>\n",
       "      <th>disc_idx</th>\n",
       "      <th>gender_idx</th>\n",
       "    </tr>\n",
       "  </thead>\n",
       "  <tbody>\n",
       "    <tr>\n",
       "      <th>0</th>\n",
       "      <td>Chemical sciences</td>\n",
       "      <td>m</td>\n",
       "      <td>83</td>\n",
       "      <td>22</td>\n",
       "      <td>0</td>\n",
       "      <td>1</td>\n",
       "    </tr>\n",
       "    <tr>\n",
       "      <th>1</th>\n",
       "      <td>Chemical sciences</td>\n",
       "      <td>f</td>\n",
       "      <td>39</td>\n",
       "      <td>10</td>\n",
       "      <td>0</td>\n",
       "      <td>0</td>\n",
       "    </tr>\n",
       "    <tr>\n",
       "      <th>2</th>\n",
       "      <td>Physical sciences</td>\n",
       "      <td>m</td>\n",
       "      <td>135</td>\n",
       "      <td>26</td>\n",
       "      <td>5</td>\n",
       "      <td>1</td>\n",
       "    </tr>\n",
       "    <tr>\n",
       "      <th>3</th>\n",
       "      <td>Physical sciences</td>\n",
       "      <td>f</td>\n",
       "      <td>39</td>\n",
       "      <td>9</td>\n",
       "      <td>5</td>\n",
       "      <td>0</td>\n",
       "    </tr>\n",
       "    <tr>\n",
       "      <th>4</th>\n",
       "      <td>Physics</td>\n",
       "      <td>m</td>\n",
       "      <td>67</td>\n",
       "      <td>18</td>\n",
       "      <td>6</td>\n",
       "      <td>1</td>\n",
       "    </tr>\n",
       "  </tbody>\n",
       "</table>\n",
       "</div>"
      ],
      "text/plain": [
       "          discipline gender  applications  awards  disc_idx  gender_idx\n",
       "0  Chemical sciences      m            83      22         0           1\n",
       "1  Chemical sciences      f            39      10         0           0\n",
       "2  Physical sciences      m           135      26         5           1\n",
       "3  Physical sciences      f            39       9         5           0\n",
       "4            Physics      m            67      18         6           1"
      ]
     },
     "execution_count": 7,
     "metadata": {},
     "output_type": "execute_result"
    }
   ],
   "source": [
    "d.head()"
   ]
  },
  {
   "cell_type": "code",
   "execution_count": 8,
   "metadata": {},
   "outputs": [],
   "source": [
    "d2 = d.drop(columns=[\"discipline\", \"gender\"])"
   ]
  },
  {
   "cell_type": "code",
   "execution_count": 9,
   "metadata": {},
   "outputs": [
    {
     "data": {
      "text/html": [
       "<div>\n",
       "<style scoped>\n",
       "    .dataframe tbody tr th:only-of-type {\n",
       "        vertical-align: middle;\n",
       "    }\n",
       "\n",
       "    .dataframe tbody tr th {\n",
       "        vertical-align: top;\n",
       "    }\n",
       "\n",
       "    .dataframe thead th {\n",
       "        text-align: right;\n",
       "    }\n",
       "</style>\n",
       "<table border=\"1\" class=\"dataframe\">\n",
       "  <thead>\n",
       "    <tr style=\"text-align: right;\">\n",
       "      <th></th>\n",
       "      <th>applications</th>\n",
       "      <th>awards</th>\n",
       "      <th>disc_idx</th>\n",
       "      <th>gender_idx</th>\n",
       "    </tr>\n",
       "  </thead>\n",
       "  <tbody>\n",
       "    <tr>\n",
       "      <th>0</th>\n",
       "      <td>83</td>\n",
       "      <td>22</td>\n",
       "      <td>0</td>\n",
       "      <td>1</td>\n",
       "    </tr>\n",
       "    <tr>\n",
       "      <th>1</th>\n",
       "      <td>39</td>\n",
       "      <td>10</td>\n",
       "      <td>0</td>\n",
       "      <td>0</td>\n",
       "    </tr>\n",
       "    <tr>\n",
       "      <th>2</th>\n",
       "      <td>135</td>\n",
       "      <td>26</td>\n",
       "      <td>5</td>\n",
       "      <td>1</td>\n",
       "    </tr>\n",
       "    <tr>\n",
       "      <th>3</th>\n",
       "      <td>39</td>\n",
       "      <td>9</td>\n",
       "      <td>5</td>\n",
       "      <td>0</td>\n",
       "    </tr>\n",
       "    <tr>\n",
       "      <th>4</th>\n",
       "      <td>67</td>\n",
       "      <td>18</td>\n",
       "      <td>6</td>\n",
       "      <td>1</td>\n",
       "    </tr>\n",
       "  </tbody>\n",
       "</table>\n",
       "</div>"
      ],
      "text/plain": [
       "   applications  awards  disc_idx  gender_idx\n",
       "0            83      22         0           1\n",
       "1            39      10         0           0\n",
       "2           135      26         5           1\n",
       "3            39       9         5           0\n",
       "4            67      18         6           1"
      ]
     },
     "execution_count": 9,
     "metadata": {},
     "output_type": "execute_result"
    }
   ],
   "source": [
    "d2.head()"
   ]
  },
  {
   "cell_type": "markdown",
   "metadata": {},
   "source": [
    "# Question 1\n",
    "\n",
    ">What are the total and indirect causal\n",
    "effects of gender on grant awards? Consider a mediation path (a pipe) through\n",
    "discipline. Draw the corresponding DAG and then use one or more binomial\n",
    "GLMs to answer the question.\n",
    "What is your causal interpretation? If NWO’s goal is to equalize rates of funding\n",
    "between the genders, what type of intervention would be most effective?"
   ]
  },
  {
   "cell_type": "markdown",
   "metadata": {},
   "source": [
    "### Draw DAG"
   ]
  },
  {
   "cell_type": "code",
   "execution_count": 10,
   "metadata": {},
   "outputs": [
    {
     "data": {
      "image/png": "[encoded data removed]",
      "text/plain": [
       "<Figure size 153.071x96.378 with 1 Axes>"
      ]
     },
     "metadata": {},
     "output_type": "display_data"
    }
   ],
   "source": [
    "q1dag = CausalGraphicalModel(\n",
    "    nodes=[\"G\", \"D\", \"A\"], edges=[(\"G\", \"A\"), (\"G\", \"D\"), (\"D\", \"A\")]\n",
    ")\n",
    "pgm = daft.PGM()\n",
    "coordinates = {\"G\": (0, 0), \"D\": (1, 1), \"A\": (2, 0)}\n",
    "for node in q1dag.dag.nodes:\n",
    "    pgm.add_node(node, node, *coordinates[node])\n",
    "for edge in q1dag.dag.edges:\n",
    "    pgm.add_edge(*edge)\n",
    "pgm.render();\n",
    "#plt.gca().invert_yaxis()"
   ]
  },
  {
   "cell_type": "markdown",
   "metadata": {},
   "source": [
    "### Aggregated binomial model\n",
    "\n",
    "Start with a simple model that looks at gender."
   ]
  },
  {
   "cell_type": "code",
   "execution_count": 11,
   "metadata": {},
   "outputs": [
    {
     "name": "stderr",
     "output_type": "stream",
     "text": [
      "WARNING (theano.gof.compilelock): Overriding existing lock by dead process '19724' (I am process '19264')\n",
      "Auto-assigning NUTS sampler...\n",
      "Initializing NUTS using jitter+adapt_diag...\n",
      "Multiprocess sampling (2 chains in 2 jobs)\n",
      "NUTS: [a]\n",
      "Sampling 2 chains, 0 divergences: 100%|████████████████████████████████████████| 2000/2000 [00:03<00:00, 533.38draws/s]\n"
     ]
    },
    {
     "data": {
      "text/html": [
       "<div>\n",
       "<style scoped>\n",
       "    .dataframe tbody tr th:only-of-type {\n",
       "        vertical-align: middle;\n",
       "    }\n",
       "\n",
       "    .dataframe tbody tr th {\n",
       "        vertical-align: top;\n",
       "    }\n",
       "\n",
       "    .dataframe thead th {\n",
       "        text-align: right;\n",
       "    }\n",
       "</style>\n",
       "<table border=\"1\" class=\"dataframe\">\n",
       "  <thead>\n",
       "    <tr style=\"text-align: right;\">\n",
       "      <th></th>\n",
       "      <th>mean</th>\n",
       "      <th>sd</th>\n",
       "      <th>hpd_3%</th>\n",
       "      <th>hpd_97%</th>\n",
       "      <th>mcse_mean</th>\n",
       "      <th>mcse_sd</th>\n",
       "      <th>ess_mean</th>\n",
       "      <th>ess_sd</th>\n",
       "      <th>ess_bulk</th>\n",
       "      <th>ess_tail</th>\n",
       "      <th>r_hat</th>\n",
       "    </tr>\n",
       "  </thead>\n",
       "  <tbody>\n",
       "    <tr>\n",
       "      <th>a[0]</th>\n",
       "      <td>-1.74</td>\n",
       "      <td>0.08</td>\n",
       "      <td>-1.90</td>\n",
       "      <td>-1.60</td>\n",
       "      <td>0.0</td>\n",
       "      <td>0.0</td>\n",
       "      <td>871.40</td>\n",
       "      <td>871.40</td>\n",
       "      <td>861.88</td>\n",
       "      <td>562.3</td>\n",
       "      <td>1.0</td>\n",
       "    </tr>\n",
       "    <tr>\n",
       "      <th>a[1]</th>\n",
       "      <td>-1.53</td>\n",
       "      <td>0.06</td>\n",
       "      <td>-1.66</td>\n",
       "      <td>-1.42</td>\n",
       "      <td>0.0</td>\n",
       "      <td>0.0</td>\n",
       "      <td>1058.39</td>\n",
       "      <td>1054.76</td>\n",
       "      <td>1060.21</td>\n",
       "      <td>853.2</td>\n",
       "      <td>1.0</td>\n",
       "    </tr>\n",
       "  </tbody>\n",
       "</table>\n",
       "</div>"
      ],
      "text/plain": [
       "      mean    sd  hpd_3%  hpd_97%  mcse_mean  mcse_sd  ess_mean   ess_sd  \\\n",
       "a[0] -1.74  0.08   -1.90    -1.60        0.0      0.0    871.40   871.40   \n",
       "a[1] -1.53  0.06   -1.66    -1.42        0.0      0.0   1058.39  1054.76   \n",
       "\n",
       "      ess_bulk  ess_tail  r_hat  \n",
       "a[0]    861.88     562.3    1.0  \n",
       "a[1]   1060.21     853.2    1.0  "
      ]
     },
     "execution_count": 11,
     "metadata": {},
     "output_type": "execute_result"
    }
   ],
   "source": [
    "with pm.Model() as q1m1:\n",
    "    a = pm.Normal(\"a\", 0, 1.5, shape=n_gender)\n",
    "    p = pm.Deterministic(\"p\", pm.math.invlogit(a[d2[\"gender_idx\"]]))\n",
    "    awards = pm.Binomial(\"awards\", p=p, n=d[\"applications\"], observed=d2[\"awards\"])\n",
    "    trace_q1m1 = pm.sample()   \n",
    "    sum_q1m1 = az.summary(trace_q1m1, var_names=[\"a\"], round_to=2)\n",
    "sum_q1m1"
   ]
  },
  {
   "cell_type": "markdown",
   "metadata": {},
   "source": [
    "The purpose of `var_names=[\"a\"]` is to suppress the values of $p$.  Since it is deterministic, it shows up in the trace. And we get one $p$ for each row of data."
   ]
  },
  {
   "cell_type": "markdown",
   "metadata": {},
   "source": [
    "### Calculate differences between index values\n",
    "\n",
    "Trace contains 1000 samples for parameters `a` and `p`.  For `a`, `a[0]` is female and `a[1]` is male. So the difference of index 0 - 1 is negative when female have a lower log-odds probability of an award."
   ]
  },
  {
   "cell_type": "code",
   "execution_count": 12,
   "metadata": {},
   "outputs": [
    {
     "data": {
      "text/plain": [
       "(1000, 2)"
      ]
     },
     "execution_count": 12,
     "metadata": {},
     "output_type": "execute_result"
    }
   ],
   "source": [
    "trace_q1m1[\"a\"].shape"
   ]
  },
  {
   "cell_type": "markdown",
   "metadata": {},
   "source": [
    "Get differences. Note: `from scipy.special import expit as logistic`\n",
    "Convert to probabilities before subtracting and (of course) before summarizing (mean, etc.)."
   ]
  },
  {
   "cell_type": "code",
   "execution_count": 13,
   "metadata": {},
   "outputs": [
    {
     "data": {
      "text/html": [
       "<div>\n",
       "<style scoped>\n",
       "    .dataframe tbody tr th:only-of-type {\n",
       "        vertical-align: middle;\n",
       "    }\n",
       "\n",
       "    .dataframe tbody tr th {\n",
       "        vertical-align: top;\n",
       "    }\n",
       "\n",
       "    .dataframe thead th {\n",
       "        text-align: right;\n",
       "    }\n",
       "</style>\n",
       "<table border=\"1\" class=\"dataframe\">\n",
       "  <thead>\n",
       "    <tr style=\"text-align: right;\">\n",
       "      <th></th>\n",
       "      <th>mean</th>\n",
       "      <th>sd</th>\n",
       "      <th>hpd_3%</th>\n",
       "      <th>hpd_97%</th>\n",
       "    </tr>\n",
       "  </thead>\n",
       "  <tbody>\n",
       "    <tr>\n",
       "      <th>diff_a</th>\n",
       "      <td>-0.20</td>\n",
       "      <td>0.10</td>\n",
       "      <td>-0.41</td>\n",
       "      <td>-0.03</td>\n",
       "    </tr>\n",
       "    <tr>\n",
       "      <th>diff_p</th>\n",
       "      <td>-0.03</td>\n",
       "      <td>0.01</td>\n",
       "      <td>-0.05</td>\n",
       "      <td>-0.00</td>\n",
       "    </tr>\n",
       "  </tbody>\n",
       "</table>\n",
       "</div>"
      ],
      "text/plain": [
       "        mean    sd  hpd_3%  hpd_97%\n",
       "diff_a -0.20  0.10   -0.41    -0.03\n",
       "diff_p -0.03  0.01   -0.05    -0.00"
      ]
     },
     "execution_count": 13,
     "metadata": {},
     "output_type": "execute_result"
    }
   ],
   "source": [
    "diff_a = trace_q1m1[\"a\"][:, 0] - trace_q1m1[\"a\"][:, 1]\n",
    "diff_p = logistic(trace_q1m1[\"a\"][:, 0]) - logistic(trace_q1m1[\"a\"][:, 1])\n",
    "az.summary({\"diff_a\": diff_a, \"diff_p\": diff_p}, kind=\"stats\", round_to=2)"
   ]
  },
  {
   "cell_type": "code",
   "execution_count": 14,
   "metadata": {},
   "outputs": [
    {
     "data": {
      "image/png": "[encoded data removed]",
      "text/plain": [
       "<Figure size 432x288 with 1 Axes>"
      ]
     },
     "metadata": {
      "needs_background": "light"
     },
     "output_type": "display_data"
    }
   ],
   "source": [
    "az.plot_dist(diff_p);"
   ]
  },
  {
   "cell_type": "markdown",
   "metadata": {},
   "source": [
    "### Full model with Discipline pipe"
   ]
  },
  {
   "cell_type": "code",
   "execution_count": 15,
   "metadata": {},
   "outputs": [
    {
     "name": "stderr",
     "output_type": "stream",
     "text": [
      "Auto-assigning NUTS sampler...\n",
      "Initializing NUTS using jitter+adapt_diag...\n",
      "Multiprocess sampling (2 chains in 2 jobs)\n",
      "NUTS: [ad, ag]\n",
      "Sampling 2 chains, 0 divergences: 100%|████████████████████████████████████████| 2000/2000 [00:06<00:00, 286.50draws/s]\n",
      "The estimated number of effective samples is smaller than 200 for some parameters.\n"
     ]
    },
    {
     "data": {
      "text/html": [
       "<div>\n",
       "<style scoped>\n",
       "    .dataframe tbody tr th:only-of-type {\n",
       "        vertical-align: middle;\n",
       "    }\n",
       "\n",
       "    .dataframe tbody tr th {\n",
       "        vertical-align: top;\n",
       "    }\n",
       "\n",
       "    .dataframe thead th {\n",
       "        text-align: right;\n",
       "    }\n",
       "</style>\n",
       "<table border=\"1\" class=\"dataframe\">\n",
       "  <thead>\n",
       "    <tr style=\"text-align: right;\">\n",
       "      <th></th>\n",
       "      <th>mean</th>\n",
       "      <th>sd</th>\n",
       "      <th>hpd_3%</th>\n",
       "      <th>hpd_97%</th>\n",
       "      <th>mcse_mean</th>\n",
       "      <th>mcse_sd</th>\n",
       "      <th>ess_mean</th>\n",
       "      <th>ess_sd</th>\n",
       "      <th>ess_bulk</th>\n",
       "      <th>ess_tail</th>\n",
       "      <th>r_hat</th>\n",
       "    </tr>\n",
       "  </thead>\n",
       "  <tbody>\n",
       "    <tr>\n",
       "      <th>ag[0]</th>\n",
       "      <td>-1.34</td>\n",
       "      <td>0.47</td>\n",
       "      <td>-2.26</td>\n",
       "      <td>-0.47</td>\n",
       "      <td>0.06</td>\n",
       "      <td>0.04</td>\n",
       "      <td>58.25</td>\n",
       "      <td>56.94</td>\n",
       "      <td>59.20</td>\n",
       "      <td>96.13</td>\n",
       "      <td>1.04</td>\n",
       "    </tr>\n",
       "    <tr>\n",
       "      <th>ag[1]</th>\n",
       "      <td>-1.20</td>\n",
       "      <td>0.47</td>\n",
       "      <td>-2.07</td>\n",
       "      <td>-0.31</td>\n",
       "      <td>0.06</td>\n",
       "      <td>0.04</td>\n",
       "      <td>56.43</td>\n",
       "      <td>56.43</td>\n",
       "      <td>57.02</td>\n",
       "      <td>87.72</td>\n",
       "      <td>1.03</td>\n",
       "    </tr>\n",
       "    <tr>\n",
       "      <th>ad[0]</th>\n",
       "      <td>0.19</td>\n",
       "      <td>0.50</td>\n",
       "      <td>-0.67</td>\n",
       "      <td>1.18</td>\n",
       "      <td>0.06</td>\n",
       "      <td>0.04</td>\n",
       "      <td>65.48</td>\n",
       "      <td>65.48</td>\n",
       "      <td>64.90</td>\n",
       "      <td>117.81</td>\n",
       "      <td>1.03</td>\n",
       "    </tr>\n",
       "    <tr>\n",
       "      <th>ad[1]</th>\n",
       "      <td>-0.14</td>\n",
       "      <td>0.49</td>\n",
       "      <td>-1.08</td>\n",
       "      <td>0.76</td>\n",
       "      <td>0.06</td>\n",
       "      <td>0.05</td>\n",
       "      <td>56.04</td>\n",
       "      <td>56.04</td>\n",
       "      <td>55.92</td>\n",
       "      <td>71.58</td>\n",
       "      <td>1.03</td>\n",
       "    </tr>\n",
       "    <tr>\n",
       "      <th>ad[2]</th>\n",
       "      <td>-0.37</td>\n",
       "      <td>0.48</td>\n",
       "      <td>-1.27</td>\n",
       "      <td>0.53</td>\n",
       "      <td>0.06</td>\n",
       "      <td>0.04</td>\n",
       "      <td>65.73</td>\n",
       "      <td>65.73</td>\n",
       "      <td>64.74</td>\n",
       "      <td>78.29</td>\n",
       "      <td>1.03</td>\n",
       "    </tr>\n",
       "    <tr>\n",
       "      <th>ad[3]</th>\n",
       "      <td>-0.42</td>\n",
       "      <td>0.51</td>\n",
       "      <td>-1.44</td>\n",
       "      <td>0.49</td>\n",
       "      <td>0.06</td>\n",
       "      <td>0.04</td>\n",
       "      <td>68.23</td>\n",
       "      <td>68.23</td>\n",
       "      <td>67.35</td>\n",
       "      <td>78.33</td>\n",
       "      <td>1.03</td>\n",
       "    </tr>\n",
       "    <tr>\n",
       "      <th>ad[4]</th>\n",
       "      <td>-0.48</td>\n",
       "      <td>0.48</td>\n",
       "      <td>-1.36</td>\n",
       "      <td>0.45</td>\n",
       "      <td>0.06</td>\n",
       "      <td>0.04</td>\n",
       "      <td>58.78</td>\n",
       "      <td>58.78</td>\n",
       "      <td>59.32</td>\n",
       "      <td>64.90</td>\n",
       "      <td>1.03</td>\n",
       "    </tr>\n",
       "    <tr>\n",
       "      <th>ad[5]</th>\n",
       "      <td>-0.15</td>\n",
       "      <td>0.49</td>\n",
       "      <td>-1.06</td>\n",
       "      <td>0.81</td>\n",
       "      <td>0.06</td>\n",
       "      <td>0.04</td>\n",
       "      <td>62.98</td>\n",
       "      <td>62.98</td>\n",
       "      <td>61.87</td>\n",
       "      <td>97.80</td>\n",
       "      <td>1.03</td>\n",
       "    </tr>\n",
       "    <tr>\n",
       "      <th>ad[6]</th>\n",
       "      <td>0.16</td>\n",
       "      <td>0.55</td>\n",
       "      <td>-0.89</td>\n",
       "      <td>1.18</td>\n",
       "      <td>0.06</td>\n",
       "      <td>0.04</td>\n",
       "      <td>75.78</td>\n",
       "      <td>75.78</td>\n",
       "      <td>76.60</td>\n",
       "      <td>143.66</td>\n",
       "      <td>1.03</td>\n",
       "    </tr>\n",
       "    <tr>\n",
       "      <th>ad[7]</th>\n",
       "      <td>-0.60</td>\n",
       "      <td>0.47</td>\n",
       "      <td>-1.49</td>\n",
       "      <td>0.27</td>\n",
       "      <td>0.06</td>\n",
       "      <td>0.04</td>\n",
       "      <td>59.36</td>\n",
       "      <td>59.36</td>\n",
       "      <td>59.16</td>\n",
       "      <td>100.24</td>\n",
       "      <td>1.03</td>\n",
       "    </tr>\n",
       "    <tr>\n",
       "      <th>ad[8]</th>\n",
       "      <td>-0.34</td>\n",
       "      <td>0.50</td>\n",
       "      <td>-1.29</td>\n",
       "      <td>0.59</td>\n",
       "      <td>0.06</td>\n",
       "      <td>0.04</td>\n",
       "      <td>64.30</td>\n",
       "      <td>64.30</td>\n",
       "      <td>63.13</td>\n",
       "      <td>56.28</td>\n",
       "      <td>1.03</td>\n",
       "    </tr>\n",
       "  </tbody>\n",
       "</table>\n",
       "</div>"
      ],
      "text/plain": [
       "       mean    sd  hpd_3%  hpd_97%  mcse_mean  mcse_sd  ess_mean  ess_sd  \\\n",
       "ag[0] -1.34  0.47   -2.26    -0.47       0.06     0.04     58.25   56.94   \n",
       "ag[1] -1.20  0.47   -2.07    -0.31       0.06     0.04     56.43   56.43   \n",
       "ad[0]  0.19  0.50   -0.67     1.18       0.06     0.04     65.48   65.48   \n",
       "ad[1] -0.14  0.49   -1.08     0.76       0.06     0.05     56.04   56.04   \n",
       "ad[2] -0.37  0.48   -1.27     0.53       0.06     0.04     65.73   65.73   \n",
       "ad[3] -0.42  0.51   -1.44     0.49       0.06     0.04     68.23   68.23   \n",
       "ad[4] -0.48  0.48   -1.36     0.45       0.06     0.04     58.78   58.78   \n",
       "ad[5] -0.15  0.49   -1.06     0.81       0.06     0.04     62.98   62.98   \n",
       "ad[6]  0.16  0.55   -0.89     1.18       0.06     0.04     75.78   75.78   \n",
       "ad[7] -0.60  0.47   -1.49     0.27       0.06     0.04     59.36   59.36   \n",
       "ad[8] -0.34  0.50   -1.29     0.59       0.06     0.04     64.30   64.30   \n",
       "\n",
       "       ess_bulk  ess_tail  r_hat  \n",
       "ag[0]     59.20     96.13   1.04  \n",
       "ag[1]     57.02     87.72   1.03  \n",
       "ad[0]     64.90    117.81   1.03  \n",
       "ad[1]     55.92     71.58   1.03  \n",
       "ad[2]     64.74     78.29   1.03  \n",
       "ad[3]     67.35     78.33   1.03  \n",
       "ad[4]     59.32     64.90   1.03  \n",
       "ad[5]     61.87     97.80   1.03  \n",
       "ad[6]     76.60    143.66   1.03  \n",
       "ad[7]     59.16    100.24   1.03  \n",
       "ad[8]     63.13     56.28   1.03  "
      ]
     },
     "execution_count": 15,
     "metadata": {},
     "output_type": "execute_result"
    }
   ],
   "source": [
    "with pm.Model() as q1m2:\n",
    "    ag = pm.Normal(\"ag\", 0, 1.5, shape=n_gender)\n",
    "    ad = pm.Normal(\"ad\", 0, 1.5, shape=n_disc)\n",
    "    p = pm.Deterministic(\"p\", pm.math.invlogit(ag[d2[\"gender_idx\"]] + ad[d2[\"disc_idx\"]]))\n",
    "    awards = pm.Binomial(\"awards\", p=p, n=d[\"applications\"], observed=d2[\"awards\"])\n",
    "    trace_q1m2 = pm.sample()\n",
    "    sum_q1m2 = pm.summary(trace_q1m2, var_names=[\"ag\", \"ad\"], round_to=2)\n",
    "sum_q1m2"
   ]
  },
  {
   "cell_type": "code",
   "execution_count": 16,
   "metadata": {},
   "outputs": [
    {
     "data": {
      "text/html": [
       "<div>\n",
       "<style scoped>\n",
       "    .dataframe tbody tr th:only-of-type {\n",
       "        vertical-align: middle;\n",
       "    }\n",
       "\n",
       "    .dataframe tbody tr th {\n",
       "        vertical-align: top;\n",
       "    }\n",
       "\n",
       "    .dataframe thead th {\n",
       "        text-align: right;\n",
       "    }\n",
       "</style>\n",
       "<table border=\"1\" class=\"dataframe\">\n",
       "  <thead>\n",
       "    <tr style=\"text-align: right;\">\n",
       "      <th></th>\n",
       "      <th>mean</th>\n",
       "      <th>sd</th>\n",
       "      <th>hpd_3%</th>\n",
       "      <th>hpd_97%</th>\n",
       "    </tr>\n",
       "  </thead>\n",
       "  <tbody>\n",
       "    <tr>\n",
       "      <th>diff_a</th>\n",
       "      <td>-0.14</td>\n",
       "      <td>0.11</td>\n",
       "      <td>-0.32</td>\n",
       "      <td>0.07</td>\n",
       "    </tr>\n",
       "    <tr>\n",
       "      <th>diff_p</th>\n",
       "      <td>-0.02</td>\n",
       "      <td>0.02</td>\n",
       "      <td>-0.06</td>\n",
       "      <td>0.01</td>\n",
       "    </tr>\n",
       "  </tbody>\n",
       "</table>\n",
       "</div>"
      ],
      "text/plain": [
       "        mean    sd  hpd_3%  hpd_97%\n",
       "diff_a -0.14  0.11   -0.32     0.07\n",
       "diff_p -0.02  0.02   -0.06     0.01"
      ]
     },
     "execution_count": 16,
     "metadata": {},
     "output_type": "execute_result"
    }
   ],
   "source": [
    "diff_a = trace_q1m2[\"ag\"][:, 0] - trace_q1m2[\"ag\"][:, 1]\n",
    "diff_p = logistic(trace_q1m2[\"ag\"][:, 0]) - logistic(trace_q1m2[\"ag\"][:, 1])\n",
    "az.summary({\"diff_a\": diff_a, \"diff_p\": diff_p}, kind=\"stats\", round_to=2)"
   ]
  },
  {
   "cell_type": "markdown",
   "metadata": {},
   "source": [
    "### Interpretation\n",
    "\n",
    "The effect of gender on award probability becomes negligible conditional on discipline."
   ]
  },
  {
   "cell_type": "markdown",
   "metadata": {},
   "source": [
    "## Question 2\n",
    "\n",
    ">Suppose that the NWO Grants sample has an unobserved confound that influences\n",
    "both choice of discipline and the probability of an award. One example of\n",
    "such a confound could be the career stage of each applicant. Suppose that in some\n",
    "disciplines, junior scholars apply for most of the grants. In other disciplines, scholars\n",
    "from all career stages compete. As a result, career stage influences discipline as\n",
    "well as the probability of being awarded a grant.\n",
    "Add these influences to your DAG from Problem 1. What happens now when you\n",
    "condition on discipline? Does it provide an un-confounded estimate of the direct\n",
    "path from gender to an award? Why or why not? Justify your answer with the\n",
    "back-door criterion. Hint: This is structurally a lot like the grandparents-parentschildren-\n",
    "neighborhoods example from a previous week.\n"
   ]
  },
  {
   "cell_type": "code",
   "execution_count": 17,
   "metadata": {},
   "outputs": [
    {
     "data": {
      "image/png": "[encoded data removed]",
      "text/plain": [
       "<Figure size 153.071x96.378 with 1 Axes>"
      ]
     },
     "metadata": {},
     "output_type": "display_data"
    }
   ],
   "source": [
    "q2dag = CausalGraphicalModel(\n",
    "    nodes=[\"G\", \"D\", \"A\", \"U\"], edges=[(\"G\", \"A\"), (\"G\", \"D\"), (\"D\", \"A\"), (\"U\", \"D\"), (\"U\", \"A\")]\n",
    ")\n",
    "pgm = daft.PGM()\n",
    "coordinates = {\"G\": (0, 0), \"D\": (1, 1), \"A\": (2, 0), \"U\": (2, 1)}\n",
    "for node in q2dag.dag.nodes:\n",
    "    pgm.add_node(node, node, *coordinates[node])\n",
    "for edge in q2dag.dag.edges:\n",
    "    pgm.add_edge(*edge)\n",
    "pgm.render();\n",
    "#plt.gca().invert_yaxis()"
   ]
  },
  {
   "cell_type": "markdown",
   "metadata": {},
   "source": [
    "### Response\n",
    "\n",
    "Conditioning on D opens a back door through `U` (the common cause fork)"
   ]
  },
  {
   "cell_type": "markdown",
   "metadata": {},
   "source": [
    "## Question 3\n",
    "\n",
    ">While one eagle feeds, sometimes another will swoop in and try to steal the salmon\n",
    "from it. Call the feeding eagle the “victim” and the thief the “pirate.” Use the available\n",
    "data to build one or more binomial GLMs of successful pirating attempts, using\n",
    "size and age as predictors. Consider any relevant interactions.\n",
    "1"
   ]
  },
  {
   "cell_type": "markdown",
   "metadata": {},
   "source": [
    "### Get eagle data\n",
    "The eagles data frame has 8 rows and 5 columns.\n",
    "\n",
    "y\n",
    "Number of successful attempts.\n",
    "\n",
    "n\n",
    "Total number of attempts.\n",
    "\n",
    "P\n",
    "Size of pirating eagle (L = large, S = small).\n",
    "\n",
    "A\n",
    "Age of pirating eagle (I = immature, A = adult).\n",
    "\n",
    "V\n",
    "Size of victim eagle (L = large, S = small)."
   ]
  },
  {
   "cell_type": "code",
   "execution_count": 18,
   "metadata": {},
   "outputs": [
    {
     "data": {
      "text/html": [
       "<div>\n",
       "<style scoped>\n",
       "    .dataframe tbody tr th:only-of-type {\n",
       "        vertical-align: middle;\n",
       "    }\n",
       "\n",
       "    .dataframe tbody tr th {\n",
       "        vertical-align: top;\n",
       "    }\n",
       "\n",
       "    .dataframe thead th {\n",
       "        text-align: right;\n",
       "    }\n",
       "</style>\n",
       "<table border=\"1\" class=\"dataframe\">\n",
       "  <thead>\n",
       "    <tr style=\"text-align: right;\">\n",
       "      <th></th>\n",
       "      <th>Unnamed: 0</th>\n",
       "      <th>y</th>\n",
       "      <th>n</th>\n",
       "      <th>P</th>\n",
       "      <th>A</th>\n",
       "      <th>V</th>\n",
       "    </tr>\n",
       "  </thead>\n",
       "  <tbody>\n",
       "    <tr>\n",
       "      <th>0</th>\n",
       "      <td>1</td>\n",
       "      <td>17</td>\n",
       "      <td>24</td>\n",
       "      <td>L</td>\n",
       "      <td>A</td>\n",
       "      <td>L</td>\n",
       "    </tr>\n",
       "    <tr>\n",
       "      <th>1</th>\n",
       "      <td>2</td>\n",
       "      <td>29</td>\n",
       "      <td>29</td>\n",
       "      <td>L</td>\n",
       "      <td>A</td>\n",
       "      <td>S</td>\n",
       "    </tr>\n",
       "    <tr>\n",
       "      <th>2</th>\n",
       "      <td>3</td>\n",
       "      <td>17</td>\n",
       "      <td>27</td>\n",
       "      <td>L</td>\n",
       "      <td>I</td>\n",
       "      <td>L</td>\n",
       "    </tr>\n",
       "    <tr>\n",
       "      <th>3</th>\n",
       "      <td>4</td>\n",
       "      <td>20</td>\n",
       "      <td>20</td>\n",
       "      <td>L</td>\n",
       "      <td>I</td>\n",
       "      <td>S</td>\n",
       "    </tr>\n",
       "    <tr>\n",
       "      <th>4</th>\n",
       "      <td>5</td>\n",
       "      <td>1</td>\n",
       "      <td>12</td>\n",
       "      <td>S</td>\n",
       "      <td>A</td>\n",
       "      <td>L</td>\n",
       "    </tr>\n",
       "  </tbody>\n",
       "</table>\n",
       "</div>"
      ],
      "text/plain": [
       "   Unnamed: 0   y   n  P  A  V\n",
       "0           1  17  24  L  A  L\n",
       "1           2  29  29  L  A  S\n",
       "2           3  17  27  L  I  L\n",
       "3           4  20  20  L  I  S\n",
       "4           5   1  12  S  A  L"
      ]
     },
     "execution_count": 18,
     "metadata": {},
     "output_type": "execute_result"
    }
   ],
   "source": [
    "eag = pd.read_csv(\"Data/eagles.csv\",\n",
    "               sep=\",\")\n",
    "eag.head()"
   ]
  },
  {
   "cell_type": "markdown",
   "metadata": {},
   "source": [
    "### Create index variables"
   ]
  },
  {
   "cell_type": "code",
   "execution_count": 19,
   "metadata": {},
   "outputs": [
    {
     "data": {
      "text/plain": [
       "(2, 2, 2)"
      ]
     },
     "execution_count": 19,
     "metadata": {},
     "output_type": "execute_result"
    }
   ],
   "source": [
    "eag[\"P\"] = eag[\"P\"].astype(\"category\")\n",
    "eag[\"A\"] = eag[\"A\"].astype(\"category\")\n",
    "eag[\"V\"] = eag[\"V\"].astype(\"category\")\n",
    "\n",
    "eag[\"P_idx\"] = eag[\"P\"].cat.codes\n",
    "eag[\"A_idx\"] = eag[\"A\"].cat.codes\n",
    "eag[\"V_idx\"] = eag[\"V\"].cat.codes\n",
    "n_P = len(eag[\"P\"].cat.categories)\n",
    "n_A = len(eag[\"A\"].cat.categories)\n",
    "n_V = len(eag[\"V\"].cat.categories)\n",
    "n_P, n_A, n_V"
   ]
  },
  {
   "cell_type": "markdown",
   "metadata": {},
   "source": [
    "### Reminder of mapping from indexes to values"
   ]
  },
  {
   "cell_type": "code",
   "execution_count": 20,
   "metadata": {},
   "outputs": [
    {
     "data": {
      "text/plain": [
       "{0: 'L', 1: 'S'}"
      ]
     },
     "execution_count": 20,
     "metadata": {},
     "output_type": "execute_result"
    }
   ],
   "source": [
    "dict(enumerate(eag[\"P\"].cat.categories))"
   ]
  },
  {
   "cell_type": "code",
   "execution_count": 21,
   "metadata": {},
   "outputs": [
    {
     "data": {
      "text/plain": [
       "{0: 'A', 1: 'I'}"
      ]
     },
     "execution_count": 21,
     "metadata": {},
     "output_type": "execute_result"
    }
   ],
   "source": [
    "dict(enumerate(eag[\"A\"].cat.categories))"
   ]
  },
  {
   "cell_type": "code",
   "execution_count": 22,
   "metadata": {},
   "outputs": [
    {
     "data": {
      "text/plain": [
       "{0: 'L', 1: 'S'}"
      ]
     },
     "execution_count": 22,
     "metadata": {},
     "output_type": "execute_result"
    }
   ],
   "source": [
    "dict(enumerate(eag[\"V\"].cat.categories))"
   ]
  },
  {
   "cell_type": "code",
   "execution_count": 23,
   "metadata": {},
   "outputs": [],
   "source": [
    "eag.drop(columns=[\"Unnamed: 0\", \"P\", \"A\", \"V\"], inplace=True)"
   ]
  },
  {
   "cell_type": "markdown",
   "metadata": {},
   "source": [
    "### Create model"
   ]
  },
  {
   "cell_type": "code",
   "execution_count": 27,
   "metadata": {},
   "outputs": [
    {
     "name": "stderr",
     "output_type": "stream",
     "text": [
      "Auto-assigning NUTS sampler...\n",
      "Initializing NUTS using jitter+adapt_diag...\n",
      "Multiprocess sampling (2 chains in 2 jobs)\n",
      "NUTS: [a_PV, a_V, a_P, a_A]\n",
      "Sampling 2 chains, 0 divergences: 100%|████████████████████████████████████████| 2000/2000 [00:10<00:00, 194.11draws/s]\n"
     ]
    },
    {
     "data": {
      "text/html": [
       "<div>\n",
       "<style scoped>\n",
       "    .dataframe tbody tr th:only-of-type {\n",
       "        vertical-align: middle;\n",
       "    }\n",
       "\n",
       "    .dataframe tbody tr th {\n",
       "        vertical-align: top;\n",
       "    }\n",
       "\n",
       "    .dataframe thead th {\n",
       "        text-align: right;\n",
       "    }\n",
       "</style>\n",
       "<table border=\"1\" class=\"dataframe\">\n",
       "  <thead>\n",
       "    <tr style=\"text-align: right;\">\n",
       "      <th></th>\n",
       "      <th>mean</th>\n",
       "      <th>sd</th>\n",
       "      <th>hpd_3%</th>\n",
       "      <th>hpd_97%</th>\n",
       "      <th>mcse_mean</th>\n",
       "      <th>mcse_sd</th>\n",
       "      <th>ess_mean</th>\n",
       "      <th>ess_sd</th>\n",
       "      <th>ess_bulk</th>\n",
       "      <th>ess_tail</th>\n",
       "      <th>r_hat</th>\n",
       "    </tr>\n",
       "  </thead>\n",
       "  <tbody>\n",
       "    <tr>\n",
       "      <th>a_P[0]</th>\n",
       "      <td>1.62</td>\n",
       "      <td>1.17</td>\n",
       "      <td>-0.47</td>\n",
       "      <td>3.96</td>\n",
       "      <td>0.04</td>\n",
       "      <td>0.03</td>\n",
       "      <td>932.98</td>\n",
       "      <td>766.54</td>\n",
       "      <td>938.15</td>\n",
       "      <td>660.90</td>\n",
       "      <td>1.00</td>\n",
       "    </tr>\n",
       "    <tr>\n",
       "      <th>a_P[1]</th>\n",
       "      <td>-1.07</td>\n",
       "      <td>1.16</td>\n",
       "      <td>-3.31</td>\n",
       "      <td>0.99</td>\n",
       "      <td>0.04</td>\n",
       "      <td>0.03</td>\n",
       "      <td>996.34</td>\n",
       "      <td>702.97</td>\n",
       "      <td>997.91</td>\n",
       "      <td>619.19</td>\n",
       "      <td>1.01</td>\n",
       "    </tr>\n",
       "    <tr>\n",
       "      <th>a_A[0]</th>\n",
       "      <td>0.78</td>\n",
       "      <td>0.96</td>\n",
       "      <td>-0.91</td>\n",
       "      <td>2.74</td>\n",
       "      <td>0.03</td>\n",
       "      <td>0.03</td>\n",
       "      <td>802.15</td>\n",
       "      <td>674.08</td>\n",
       "      <td>797.77</td>\n",
       "      <td>705.47</td>\n",
       "      <td>1.00</td>\n",
       "    </tr>\n",
       "    <tr>\n",
       "      <th>a_A[1]</th>\n",
       "      <td>-0.27</td>\n",
       "      <td>0.96</td>\n",
       "      <td>-2.08</td>\n",
       "      <td>1.54</td>\n",
       "      <td>0.03</td>\n",
       "      <td>0.03</td>\n",
       "      <td>845.82</td>\n",
       "      <td>519.88</td>\n",
       "      <td>846.83</td>\n",
       "      <td>580.13</td>\n",
       "      <td>1.00</td>\n",
       "    </tr>\n",
       "    <tr>\n",
       "      <th>a_V[0]</th>\n",
       "      <td>-1.24</td>\n",
       "      <td>1.15</td>\n",
       "      <td>-3.47</td>\n",
       "      <td>0.93</td>\n",
       "      <td>0.04</td>\n",
       "      <td>0.03</td>\n",
       "      <td>894.34</td>\n",
       "      <td>625.19</td>\n",
       "      <td>905.61</td>\n",
       "      <td>665.96</td>\n",
       "      <td>1.00</td>\n",
       "    </tr>\n",
       "    <tr>\n",
       "      <th>a_V[1]</th>\n",
       "      <td>1.67</td>\n",
       "      <td>1.13</td>\n",
       "      <td>-0.62</td>\n",
       "      <td>3.64</td>\n",
       "      <td>0.04</td>\n",
       "      <td>0.03</td>\n",
       "      <td>974.42</td>\n",
       "      <td>925.44</td>\n",
       "      <td>960.00</td>\n",
       "      <td>647.06</td>\n",
       "      <td>1.00</td>\n",
       "    </tr>\n",
       "    <tr>\n",
       "      <th>a_PV[0,0]</th>\n",
       "      <td>0.14</td>\n",
       "      <td>1.14</td>\n",
       "      <td>-2.01</td>\n",
       "      <td>2.27</td>\n",
       "      <td>0.04</td>\n",
       "      <td>0.03</td>\n",
       "      <td>855.27</td>\n",
       "      <td>571.44</td>\n",
       "      <td>851.90</td>\n",
       "      <td>636.09</td>\n",
       "      <td>1.00</td>\n",
       "    </tr>\n",
       "    <tr>\n",
       "      <th>a_PV[0,1]</th>\n",
       "      <td>1.46</td>\n",
       "      <td>1.29</td>\n",
       "      <td>-0.84</td>\n",
       "      <td>3.86</td>\n",
       "      <td>0.04</td>\n",
       "      <td>0.03</td>\n",
       "      <td>1131.43</td>\n",
       "      <td>888.64</td>\n",
       "      <td>1136.54</td>\n",
       "      <td>871.60</td>\n",
       "      <td>1.00</td>\n",
       "    </tr>\n",
       "    <tr>\n",
       "      <th>a_PV[1,0]</th>\n",
       "      <td>-1.35</td>\n",
       "      <td>1.20</td>\n",
       "      <td>-3.65</td>\n",
       "      <td>0.75</td>\n",
       "      <td>0.04</td>\n",
       "      <td>0.03</td>\n",
       "      <td>1154.87</td>\n",
       "      <td>775.58</td>\n",
       "      <td>1170.65</td>\n",
       "      <td>740.36</td>\n",
       "      <td>1.00</td>\n",
       "    </tr>\n",
       "    <tr>\n",
       "      <th>a_PV[1,1]</th>\n",
       "      <td>0.32</td>\n",
       "      <td>1.19</td>\n",
       "      <td>-1.76</td>\n",
       "      <td>2.65</td>\n",
       "      <td>0.04</td>\n",
       "      <td>0.03</td>\n",
       "      <td>891.82</td>\n",
       "      <td>594.71</td>\n",
       "      <td>875.63</td>\n",
       "      <td>755.91</td>\n",
       "      <td>1.00</td>\n",
       "    </tr>\n",
       "  </tbody>\n",
       "</table>\n",
       "</div>"
      ],
      "text/plain": [
       "           mean    sd  hpd_3%  hpd_97%  mcse_mean  mcse_sd  ess_mean  ess_sd  \\\n",
       "a_P[0]     1.62  1.17   -0.47     3.96       0.04     0.03    932.98  766.54   \n",
       "a_P[1]    -1.07  1.16   -3.31     0.99       0.04     0.03    996.34  702.97   \n",
       "a_A[0]     0.78  0.96   -0.91     2.74       0.03     0.03    802.15  674.08   \n",
       "a_A[1]    -0.27  0.96   -2.08     1.54       0.03     0.03    845.82  519.88   \n",
       "a_V[0]    -1.24  1.15   -3.47     0.93       0.04     0.03    894.34  625.19   \n",
       "a_V[1]     1.67  1.13   -0.62     3.64       0.04     0.03    974.42  925.44   \n",
       "a_PV[0,0]  0.14  1.14   -2.01     2.27       0.04     0.03    855.27  571.44   \n",
       "a_PV[0,1]  1.46  1.29   -0.84     3.86       0.04     0.03   1131.43  888.64   \n",
       "a_PV[1,0] -1.35  1.20   -3.65     0.75       0.04     0.03   1154.87  775.58   \n",
       "a_PV[1,1]  0.32  1.19   -1.76     2.65       0.04     0.03    891.82  594.71   \n",
       "\n",
       "           ess_bulk  ess_tail  r_hat  \n",
       "a_P[0]       938.15    660.90   1.00  \n",
       "a_P[1]       997.91    619.19   1.01  \n",
       "a_A[0]       797.77    705.47   1.00  \n",
       "a_A[1]       846.83    580.13   1.00  \n",
       "a_V[0]       905.61    665.96   1.00  \n",
       "a_V[1]       960.00    647.06   1.00  \n",
       "a_PV[0,0]    851.90    636.09   1.00  \n",
       "a_PV[0,1]   1136.54    871.60   1.00  \n",
       "a_PV[1,0]   1170.65    740.36   1.00  \n",
       "a_PV[1,1]    875.63    755.91   1.00  "
      ]
     },
     "execution_count": 27,
     "metadata": {},
     "output_type": "execute_result"
    }
   ],
   "source": [
    "with pm.Model() as q3m1:\n",
    "    a_A = pm.Normal(\"a_A\", 0, 1.5, shape=n_A)\n",
    "    a_P = pm.Normal(\"a_P\", 0, 1.5, shape=n_P)\n",
    "    a_V = pm.Normal(\"a_V\", 0, 1.5, shape=n_V)\n",
    "    a_PV = pm.Normal(\"a_PV\", 0, 1.5, shape=(n_P, n_V))\n",
    "    p = pm.Deterministic(\"p\", pm.math.invlogit(a_P[eag[\"P_idx\"]] + a_A[eag[\"A_idx\"]] + a_V[eag[\"V_idx\"]] + a_PV[eag[\"P_idx\"], eag[\"V_idx\"]]))\n",
    "    success = pm.Binomial(\"success\", p=p, n=eag[\"n\"], observed=eag[\"y\"])\n",
    "    trace_q3m1 = pm.sample()   \n",
    "    sum_q3m1 = az.summary(trace_q3m1, var_names=[\"a_P\", \"a_A\", \"a_V\", \"a_PV\"], round_to=2)\n",
    "sum_q3m1"
   ]
  },
  {
   "cell_type": "markdown",
   "metadata": {},
   "source": [
    "### Calculate some contrasts"
   ]
  },
  {
   "cell_type": "markdown",
   "metadata": {},
   "source": [
    "Pirate size:"
   ]
  },
  {
   "cell_type": "code",
   "execution_count": null,
   "metadata": {},
   "outputs": [],
   "source": [
    "diff_a = trace_q3m1[\"a_P\"][:, 0] - trace_q3m1[\"a_P\"][:, 1]\n",
    "diff_p = logistic(trace_q3m1[\"a_P\"][:, 0]) - logistic(trace_q3m1[\"a_P\"][:, 1])\n",
    "az.summary({\"diff_a\": diff_a, \"diff_p\": diff_p}, kind=\"stats\", round_to=2)"
   ]
  },
  {
   "cell_type": "markdown",
   "metadata": {},
   "source": [
    "Pirate age:"
   ]
  },
  {
   "cell_type": "code",
   "execution_count": null,
   "metadata": {},
   "outputs": [],
   "source": [
    "diff_a = trace_q3m1[\"a_A\"][:, 0] - trace_q3m1[\"a_A\"][:, 1]\n",
    "diff_p = logistic(trace_q3m1[\"a_A\"][:, 0]) - logistic(trace_q3m1[\"a_A\"][:, 1])\n",
    "az.summary({\"diff_a\": diff_a, \"diff_p\": diff_p}, kind=\"stats\", round_to=2)"
   ]
  },
  {
   "cell_type": "markdown",
   "metadata": {},
   "source": [
    "Victim size:"
   ]
  },
  {
   "cell_type": "code",
   "execution_count": null,
   "metadata": {},
   "outputs": [],
   "source": [
    "diff_a = trace_q3m1[\"a_V\"][:, 0] - trace_q3m1[\"a_V\"][:, 1]\n",
    "diff_p = logistic(trace_q3m1[\"a_V\"][:, 0]) - logistic(trace_q3m1[\"a_V\"][:, 1])\n",
    "az.summary({\"diff_a\": diff_a, \"diff_p\": diff_p}, kind=\"stats\", round_to=2)"
   ]
  },
  {
   "cell_type": "markdown",
   "metadata": {},
   "source": [
    "Interaction of pirate size and victim size (large pirate versus large/small victim):"
   ]
  },
  {
   "cell_type": "code",
   "execution_count": null,
   "metadata": {},
   "outputs": [],
   "source": [
    "diff_a = trace_q3m1[\"a_PV\"][:, 0, 0] - trace_q3m1[\"a_PV\"][:, 0, 1]\n",
    "diff_p = logistic(trace_q3m1[\"a_PV\"][:, 0, 0] - trace_q3m1[\"a_PV\"][:, 0, 1])\n",
    "az.summary({\"diff_a\": diff_a, \"diff_p\": diff_p}, kind=\"stats\", round_to=2)"
   ]
  },
  {
   "cell_type": "markdown",
   "metadata": {},
   "source": [
    "### Interpretations\n",
    "\n",
    "1. large pirates are more successful\n",
    "1. older pirates more successful\n",
    "1. large victims are less likely to be poached successfully\n",
    "1. interactions are hard to interpret but work the way you might think they would"
   ]
  },
  {
   "cell_type": "code",
   "execution_count": null,
   "metadata": {},
   "outputs": [],
   "source": []
  }
 ],
 "metadata": {
  "kernelspec": {
   "display_name": "Python 3",
   "language": "python",
   "name": "python3"
  },
  "language_info": {
   "codemirror_mode": {
    "name": "ipython",
    "version": 3
   },
   "file_extension": ".py",
   "mimetype": "text/x-python",
   "name": "python",
   "nbconvert_exporter": "python",
   "pygments_lexer": "ipython3",
   "version": "3.9.1"
  }
 },
 "nbformat": 4,
 "nbformat_minor": 4
}
