{
 "cells": [
  {
   "cell_type": "markdown",
   "metadata": {},
   "source": [
    "# Homework for Week 6\n",
    "\n",
    "Based on GLM (Chapter 10) and counting models (e.g., binomial in Chapter 11).\n"
   ]
  },
  {
   "cell_type": "markdown",
   "metadata": {},
   "source": [
    "## Setup\n",
    "\n"
   ]
  },
  {
   "cell_type": "code",
   "execution_count": 1,
   "metadata": {
    "scrolled": true
   },
   "outputs": [],
   "source": [
    "import numpy as np\n",
    "import pandas as pd\n",
    "import arviz as az\n",
    "import matplotlib.pyplot as plt\n",
    "import pymc3 as pm\n",
    "from scipy.special import expit as logistic\n",
    "\n",
    "import warnings\n",
    "warnings.simplefilter(action=\"ignore\", category=FutureWarning)  #suppress Arviz warnings\n",
    "\n",
    "from causalgraphicalmodels import CausalGraphicalModel\n",
    "import daft"
   ]
  },
  {
   "cell_type": "code",
   "execution_count": 2,
   "metadata": {},
   "outputs": [
    {
     "data": {
      "text/html": [
       "<div>\n",
       "<style scoped>\n",
       "    .dataframe tbody tr th:only-of-type {\n",
       "        vertical-align: middle;\n",
       "    }\n",
       "\n",
       "    .dataframe tbody tr th {\n",
       "        vertical-align: top;\n",
       "    }\n",
       "\n",
       "    .dataframe thead th {\n",
       "        text-align: right;\n",
       "    }\n",
       "</style>\n",
       "<table border=\"1\" class=\"dataframe\">\n",
       "  <thead>\n",
       "    <tr style=\"text-align: right;\">\n",
       "      <th></th>\n",
       "      <th>discipline</th>\n",
       "      <th>gender</th>\n",
       "      <th>applications</th>\n",
       "      <th>awards</th>\n",
       "    </tr>\n",
       "  </thead>\n",
       "  <tbody>\n",
       "    <tr>\n",
       "      <th>0</th>\n",
       "      <td>Chemical sciences</td>\n",
       "      <td>m</td>\n",
       "      <td>83</td>\n",
       "      <td>22</td>\n",
       "    </tr>\n",
       "    <tr>\n",
       "      <th>1</th>\n",
       "      <td>Chemical sciences</td>\n",
       "      <td>f</td>\n",
       "      <td>39</td>\n",
       "      <td>10</td>\n",
       "    </tr>\n",
       "    <tr>\n",
       "      <th>2</th>\n",
       "      <td>Physical sciences</td>\n",
       "      <td>m</td>\n",
       "      <td>135</td>\n",
       "      <td>26</td>\n",
       "    </tr>\n",
       "    <tr>\n",
       "      <th>3</th>\n",
       "      <td>Physical sciences</td>\n",
       "      <td>f</td>\n",
       "      <td>39</td>\n",
       "      <td>9</td>\n",
       "    </tr>\n",
       "    <tr>\n",
       "      <th>4</th>\n",
       "      <td>Physics</td>\n",
       "      <td>m</td>\n",
       "      <td>67</td>\n",
       "      <td>18</td>\n",
       "    </tr>\n",
       "  </tbody>\n",
       "</table>\n",
       "</div>"
      ],
      "text/plain": [
       "          discipline gender  applications  awards\n",
       "0  Chemical sciences      m            83      22\n",
       "1  Chemical sciences      f            39      10\n",
       "2  Physical sciences      m           135      26\n",
       "3  Physical sciences      f            39       9\n",
       "4            Physics      m            67      18"
      ]
     },
     "execution_count": 2,
     "metadata": {},
     "output_type": "execute_result"
    }
   ],
   "source": [
    "d = pd.read_csv(\"Data/NWOGrants.csv\",\n",
    "               sep=\";\")\n",
    "d.head()"
   ]
  },
  {
   "cell_type": "markdown",
   "metadata": {},
   "source": [
    "### Create index variables"
   ]
  },
  {
   "cell_type": "code",
   "execution_count": 3,
   "metadata": {},
   "outputs": [],
   "source": [
    "d[\"discipline\"] = d[\"discipline\"].astype(\"category\")\n",
    "d[\"gender\"] = d[\"gender\"].astype(\"category\")"
   ]
  },
  {
   "cell_type": "code",
   "execution_count": 4,
   "metadata": {},
   "outputs": [],
   "source": [
    "d[\"disc_idx\"] = d[\"discipline\"].cat.codes\n",
    "d[\"gender_idx\"] = d[\"gender\"].cat.codes"
   ]
  },
  {
   "cell_type": "markdown",
   "metadata": {},
   "source": [
    "Create number of values for each index variable"
   ]
  },
  {
   "cell_type": "code",
   "execution_count": 5,
   "metadata": {},
   "outputs": [
    {
     "data": {
      "text/plain": [
       "(9, 2)"
      ]
     },
     "execution_count": 5,
     "metadata": {},
     "output_type": "execute_result"
    }
   ],
   "source": [
    "n_disc = len(d[\"discipline\"].cat.categories)\n",
    "n_gender = len(d[\"gender\"].cat.categories)\n",
    "n_disc, n_gender"
   ]
  },
  {
   "cell_type": "markdown",
   "metadata": {},
   "source": [
    "List all disciplines:"
   ]
  },
  {
   "cell_type": "code",
   "execution_count": 2,
   "metadata": {},
   "outputs": [
    {
     "ename": "NameError",
     "evalue": "name 'd' is not defined",
     "output_type": "error",
     "traceback": [
      "\u001b[1;31m---------------------------------------------------------------------------\u001b[0m",
      "\u001b[1;31mNameError\u001b[0m                                 Traceback (most recent call last)",
      "\u001b[1;32m<ipython-input-2-2752364e176a>\u001b[0m in \u001b[0;36m<module>\u001b[1;34m\u001b[0m\n\u001b[1;32m----> 1\u001b[1;33m \u001b[0mdict\u001b[0m\u001b[1;33m(\u001b[0m\u001b[0menumerate\u001b[0m\u001b[1;33m(\u001b[0m\u001b[0md\u001b[0m\u001b[1;33m[\u001b[0m\u001b[1;34m\"discipline\"\u001b[0m\u001b[1;33m]\u001b[0m\u001b[1;33m.\u001b[0m\u001b[0mcat\u001b[0m\u001b[1;33m.\u001b[0m\u001b[0mcategories\u001b[0m\u001b[1;33m)\u001b[0m\u001b[1;33m)\u001b[0m\u001b[1;33m\u001b[0m\u001b[1;33m\u001b[0m\u001b[0m\n\u001b[0m",
      "\u001b[1;31mNameError\u001b[0m: name 'd' is not defined"
     ]
    }
   ],
   "source": [
    "dict(enumerate(d[\"discipline\"].cat.categories))"
   ]
  },
  {
   "cell_type": "markdown",
   "metadata": {},
   "source": [
    "### Trim data frame\n"
   ]
  },
  {
   "cell_type": "code",
   "execution_count": 7,
   "metadata": {},
   "outputs": [
    {
     "data": {
      "text/html": [
       "<div>\n",
       "<style scoped>\n",
       "    .dataframe tbody tr th:only-of-type {\n",
       "        vertical-align: middle;\n",
       "    }\n",
       "\n",
       "    .dataframe tbody tr th {\n",
       "        vertical-align: top;\n",
       "    }\n",
       "\n",
       "    .dataframe thead th {\n",
       "        text-align: right;\n",
       "    }\n",
       "</style>\n",
       "<table border=\"1\" class=\"dataframe\">\n",
       "  <thead>\n",
       "    <tr style=\"text-align: right;\">\n",
       "      <th></th>\n",
       "      <th>discipline</th>\n",
       "      <th>gender</th>\n",
       "      <th>applications</th>\n",
       "      <th>awards</th>\n",
       "      <th>disc_idx</th>\n",
       "      <th>gender_idx</th>\n",
       "    </tr>\n",
       "  </thead>\n",
       "  <tbody>\n",
       "    <tr>\n",
       "      <th>0</th>\n",
       "      <td>Chemical sciences</td>\n",
       "      <td>m</td>\n",
       "      <td>83</td>\n",
       "      <td>22</td>\n",
       "      <td>0</td>\n",
       "      <td>1</td>\n",
       "    </tr>\n",
       "    <tr>\n",
       "      <th>1</th>\n",
       "      <td>Chemical sciences</td>\n",
       "      <td>f</td>\n",
       "      <td>39</td>\n",
       "      <td>10</td>\n",
       "      <td>0</td>\n",
       "      <td>0</td>\n",
       "    </tr>\n",
       "    <tr>\n",
       "      <th>2</th>\n",
       "      <td>Physical sciences</td>\n",
       "      <td>m</td>\n",
       "      <td>135</td>\n",
       "      <td>26</td>\n",
       "      <td>5</td>\n",
       "      <td>1</td>\n",
       "    </tr>\n",
       "    <tr>\n",
       "      <th>3</th>\n",
       "      <td>Physical sciences</td>\n",
       "      <td>f</td>\n",
       "      <td>39</td>\n",
       "      <td>9</td>\n",
       "      <td>5</td>\n",
       "      <td>0</td>\n",
       "    </tr>\n",
       "    <tr>\n",
       "      <th>4</th>\n",
       "      <td>Physics</td>\n",
       "      <td>m</td>\n",
       "      <td>67</td>\n",
       "      <td>18</td>\n",
       "      <td>6</td>\n",
       "      <td>1</td>\n",
       "    </tr>\n",
       "  </tbody>\n",
       "</table>\n",
       "</div>"
      ],
      "text/plain": [
       "          discipline gender  applications  awards  disc_idx  gender_idx\n",
       "0  Chemical sciences      m            83      22         0           1\n",
       "1  Chemical sciences      f            39      10         0           0\n",
       "2  Physical sciences      m           135      26         5           1\n",
       "3  Physical sciences      f            39       9         5           0\n",
       "4            Physics      m            67      18         6           1"
      ]
     },
     "execution_count": 7,
     "metadata": {},
     "output_type": "execute_result"
    }
   ],
   "source": [
    "d.head()"
   ]
  },
  {
   "cell_type": "code",
   "execution_count": 8,
   "metadata": {},
   "outputs": [],
   "source": [
    "d2 = d.drop(columns=[\"discipline\", \"gender\"])"
   ]
  },
  {
   "cell_type": "code",
   "execution_count": 9,
   "metadata": {},
   "outputs": [
    {
     "data": {
      "text/html": [
       "<div>\n",
       "<style scoped>\n",
       "    .dataframe tbody tr th:only-of-type {\n",
       "        vertical-align: middle;\n",
       "    }\n",
       "\n",
       "    .dataframe tbody tr th {\n",
       "        vertical-align: top;\n",
       "    }\n",
       "\n",
       "    .dataframe thead th {\n",
       "        text-align: right;\n",
       "    }\n",
       "</style>\n",
       "<table border=\"1\" class=\"dataframe\">\n",
       "  <thead>\n",
       "    <tr style=\"text-align: right;\">\n",
       "      <th></th>\n",
       "      <th>applications</th>\n",
       "      <th>awards</th>\n",
       "      <th>disc_idx</th>\n",
       "      <th>gender_idx</th>\n",
       "    </tr>\n",
       "  </thead>\n",
       "  <tbody>\n",
       "    <tr>\n",
       "      <th>0</th>\n",
       "      <td>83</td>\n",
       "      <td>22</td>\n",
       "      <td>0</td>\n",
       "      <td>1</td>\n",
       "    </tr>\n",
       "    <tr>\n",
       "      <th>1</th>\n",
       "      <td>39</td>\n",
       "      <td>10</td>\n",
       "      <td>0</td>\n",
       "      <td>0</td>\n",
       "    </tr>\n",
       "    <tr>\n",
       "      <th>2</th>\n",
       "      <td>135</td>\n",
       "      <td>26</td>\n",
       "      <td>5</td>\n",
       "      <td>1</td>\n",
       "    </tr>\n",
       "    <tr>\n",
       "      <th>3</th>\n",
       "      <td>39</td>\n",
       "      <td>9</td>\n",
       "      <td>5</td>\n",
       "      <td>0</td>\n",
       "    </tr>\n",
       "    <tr>\n",
       "      <th>4</th>\n",
       "      <td>67</td>\n",
       "      <td>18</td>\n",
       "      <td>6</td>\n",
       "      <td>1</td>\n",
       "    </tr>\n",
       "  </tbody>\n",
       "</table>\n",
       "</div>"
      ],
      "text/plain": [
       "   applications  awards  disc_idx  gender_idx\n",
       "0            83      22         0           1\n",
       "1            39      10         0           0\n",
       "2           135      26         5           1\n",
       "3            39       9         5           0\n",
       "4            67      18         6           1"
      ]
     },
     "execution_count": 9,
     "metadata": {},
     "output_type": "execute_result"
    }
   ],
   "source": [
    "d2.head()"
   ]
  },
  {
   "cell_type": "markdown",
   "metadata": {},
   "source": [
    "# Question 1\n",
    "\n",
    ">What are the total and indirect causal\n",
    "effects of gender on grant awards? Consider a mediation path (a pipe) through\n",
    "discipline. Draw the corresponding DAG and then use one or more binomial\n",
    "GLMs to answer the question.\n",
    "What is your causal interpretation? If NWO’s goal is to equalize rates of funding\n",
    "between the genders, what type of intervention would be most effective?"
   ]
  },
  {
   "cell_type": "markdown",
   "metadata": {},
   "source": [
    "### Draw DAG"
   ]
  },
  {
   "cell_type": "code",
   "execution_count": 10,
   "metadata": {},
   "outputs": [
    {
     "data": {
      "image/png": "[encoded data removed]",
      "text/plain": [
       "<Figure size 153.071x96.378 with 1 Axes>"
      ]
     },
     "metadata": {},
     "output_type": "display_data"
    }
   ],
   "source": [
    "q1dag = CausalGraphicalModel(\n",
    "    nodes=[\"G\", \"D\", \"A\"], edges=[(\"G\", \"A\"), (\"G\", \"D\"), (\"D\", \"A\")]\n",
    ")\n",
    "pgm = daft.PGM()\n",
    "coordinates = {\"G\": (0, 0), \"D\": (1, 1), \"A\": (2, 0)}\n",
    "for node in q1dag.dag.nodes:\n",
    "    pgm.add_node(node, node, *coordinates[node])\n",
    "for edge in q1dag.dag.edges:\n",
    "    pgm.add_edge(*edge)\n",
    "pgm.render();\n",
    "#plt.gca().invert_yaxis()"
   ]
  },
  {
   "cell_type": "markdown",
   "metadata": {},
   "source": [
    "### Aggregated binomial model\n",
    "\n",
    "Start with a simple model that looks at gender."
   ]
  },
  {
   "cell_type": "code",
   "execution_count": 11,
   "metadata": {},
   "outputs": [
    {
     "name": "stderr",
     "output_type": "stream",
     "text": [
      "Auto-assigning NUTS sampler...\n",
      "Initializing NUTS using jitter+adapt_diag...\n",
      "Multiprocess sampling (2 chains in 2 jobs)\n",
      "NUTS: [a]\n",
      "Sampling 2 chains, 0 divergences: 100%|████████████████████████████████████████| 2000/2000 [00:02<00:00, 884.00draws/s]\n"
     ]
    },
    {
     "data": {
      "text/html": [
       "<div>\n",
       "<style scoped>\n",
       "    .dataframe tbody tr th:only-of-type {\n",
       "        vertical-align: middle;\n",
       "    }\n",
       "\n",
       "    .dataframe tbody tr th {\n",
       "        vertical-align: top;\n",
       "    }\n",
       "\n",
       "    .dataframe thead th {\n",
       "        text-align: right;\n",
       "    }\n",
       "</style>\n",
       "<table border=\"1\" class=\"dataframe\">\n",
       "  <thead>\n",
       "    <tr style=\"text-align: right;\">\n",
       "      <th></th>\n",
       "      <th>mean</th>\n",
       "      <th>sd</th>\n",
       "      <th>hpd_3%</th>\n",
       "      <th>hpd_97%</th>\n",
       "      <th>mcse_mean</th>\n",
       "      <th>mcse_sd</th>\n",
       "      <th>ess_mean</th>\n",
       "      <th>ess_sd</th>\n",
       "      <th>ess_bulk</th>\n",
       "      <th>ess_tail</th>\n",
       "      <th>r_hat</th>\n",
       "    </tr>\n",
       "  </thead>\n",
       "  <tbody>\n",
       "    <tr>\n",
       "      <th>a[0]</th>\n",
       "      <td>-1.74</td>\n",
       "      <td>0.08</td>\n",
       "      <td>-1.89</td>\n",
       "      <td>-1.60</td>\n",
       "      <td>0.0</td>\n",
       "      <td>0.0</td>\n",
       "      <td>886.32</td>\n",
       "      <td>881.71</td>\n",
       "      <td>890.59</td>\n",
       "      <td>758.10</td>\n",
       "      <td>1.0</td>\n",
       "    </tr>\n",
       "    <tr>\n",
       "      <th>a[1]</th>\n",
       "      <td>-1.54</td>\n",
       "      <td>0.07</td>\n",
       "      <td>-1.66</td>\n",
       "      <td>-1.43</td>\n",
       "      <td>0.0</td>\n",
       "      <td>0.0</td>\n",
       "      <td>1008.05</td>\n",
       "      <td>1008.05</td>\n",
       "      <td>994.14</td>\n",
       "      <td>603.41</td>\n",
       "      <td>1.0</td>\n",
       "    </tr>\n",
       "  </tbody>\n",
       "</table>\n",
       "</div>"
      ],
      "text/plain": [
       "      mean    sd  hpd_3%  hpd_97%  mcse_mean  mcse_sd  ess_mean   ess_sd  \\\n",
       "a[0] -1.74  0.08   -1.89    -1.60        0.0      0.0    886.32   881.71   \n",
       "a[1] -1.54  0.07   -1.66    -1.43        0.0      0.0   1008.05  1008.05   \n",
       "\n",
       "      ess_bulk  ess_tail  r_hat  \n",
       "a[0]    890.59    758.10    1.0  \n",
       "a[1]    994.14    603.41    1.0  "
      ]
     },
     "execution_count": 11,
     "metadata": {},
     "output_type": "execute_result"
    }
   ],
   "source": [
    "with pm.Model() as q1m1:\n",
    "    a = pm.Normal(\"a\", 0, 1.5, shape=n_gender)\n",
    "    p = pm.Deterministic(\"p\", pm.math.invlogit(a[d2[\"gender_idx\"]]))\n",
    "    awards = pm.Binomial(\"awards\", p=p, n=d[\"applications\"], observed=d2[\"awards\"])\n",
    "    trace_q1m1 = pm.sample()   \n",
    "    sum_q1m1 = az.summary(trace_q1m1, var_names=[\"a\"], round_to=2)\n",
    "sum_q1m1"
   ]
  },
  {
   "cell_type": "markdown",
   "metadata": {},
   "source": [
    "The purpose of `var_names=[\"a\"]` is to suppress the values of $p$.  Since it is deterministic, it shows up in the trace. And we get one $p$ for each row of data."
   ]
  },
  {
   "cell_type": "markdown",
   "metadata": {},
   "source": [
    "### Calculate differences between index values\n",
    "\n",
    "Trace contains 1000 samples for parameters `a` and `p`.  For `a`, `a[0]` is female and `a[1]` is male. So the difference of index 0 - 1 is negative when female have a lower log-odds probability of an award."
   ]
  },
  {
   "cell_type": "code",
   "execution_count": 12,
   "metadata": {},
   "outputs": [
    {
     "data": {
      "text/plain": [
       "(1000, 2)"
      ]
     },
     "execution_count": 12,
     "metadata": {},
     "output_type": "execute_result"
    }
   ],
   "source": [
    "trace_q1m1[\"a\"].shape"
   ]
  },
  {
   "cell_type": "markdown",
   "metadata": {},
   "source": [
    "Get differences. Note: `from scipy.special import expit as logistic`\n",
    "Convert to probabilities before subtracting and (of course) before summarizing (mean, etc.)."
   ]
  },
  {
   "cell_type": "code",
   "execution_count": 13,
   "metadata": {},
   "outputs": [
    {
     "data": {
      "text/html": [
       "<div>\n",
       "<style scoped>\n",
       "    .dataframe tbody tr th:only-of-type {\n",
       "        vertical-align: middle;\n",
       "    }\n",
       "\n",
       "    .dataframe tbody tr th {\n",
       "        vertical-align: top;\n",
       "    }\n",
       "\n",
       "    .dataframe thead th {\n",
       "        text-align: right;\n",
       "    }\n",
       "</style>\n",
       "<table border=\"1\" class=\"dataframe\">\n",
       "  <thead>\n",
       "    <tr style=\"text-align: right;\">\n",
       "      <th></th>\n",
       "      <th>mean</th>\n",
       "      <th>sd</th>\n",
       "      <th>hpd_3%</th>\n",
       "      <th>hpd_97%</th>\n",
       "    </tr>\n",
       "  </thead>\n",
       "  <tbody>\n",
       "    <tr>\n",
       "      <th>diff_a</th>\n",
       "      <td>-0.20</td>\n",
       "      <td>0.10</td>\n",
       "      <td>-0.39</td>\n",
       "      <td>-0.01</td>\n",
       "    </tr>\n",
       "    <tr>\n",
       "      <th>diff_p</th>\n",
       "      <td>-0.03</td>\n",
       "      <td>0.01</td>\n",
       "      <td>-0.05</td>\n",
       "      <td>-0.00</td>\n",
       "    </tr>\n",
       "  </tbody>\n",
       "</table>\n",
       "</div>"
      ],
      "text/plain": [
       "        mean    sd  hpd_3%  hpd_97%\n",
       "diff_a -0.20  0.10   -0.39    -0.01\n",
       "diff_p -0.03  0.01   -0.05    -0.00"
      ]
     },
     "execution_count": 13,
     "metadata": {},
     "output_type": "execute_result"
    }
   ],
   "source": [
    "diff_a = trace_q1m1[\"a\"][:, 0] - trace_q1m1[\"a\"][:, 1]\n",
    "diff_p = logistic(trace_q1m1[\"a\"][:, 0]) - logistic(trace_q1m1[\"a\"][:, 1])\n",
    "az.summary({\"diff_a\": diff_a, \"diff_p\": diff_p}, kind=\"stats\", round_to=2)"
   ]
  },
  {
   "cell_type": "code",
   "execution_count": 14,
   "metadata": {},
   "outputs": [
    {
     "data": {
      "image/png": "[encoded data removed]",
      "text/plain": [
       "<Figure size 432x288 with 1 Axes>"
      ]
     },
     "metadata": {
      "needs_background": "light"
     },
     "output_type": "display_data"
    }
   ],
   "source": [
    "az.plot_dist(diff_p);"
   ]
  },
  {
   "cell_type": "markdown",
   "metadata": {},
   "source": [
    "### Full model with Discipline pipe"
   ]
  },
  {
   "cell_type": "code",
   "execution_count": 15,
   "metadata": {},
   "outputs": [
    {
     "name": "stderr",
     "output_type": "stream",
     "text": [
      "Auto-assigning NUTS sampler...\n",
      "Initializing NUTS using jitter+adapt_diag...\n",
      "Multiprocess sampling (2 chains in 2 jobs)\n",
      "NUTS: [ad, ag]\n",
      "Sampling 2 chains, 0 divergences: 100%|████████████████████████████████████████| 2000/2000 [00:04<00:00, 432.78draws/s]\n",
      "The estimated number of effective samples is smaller than 200 for some parameters.\n"
     ]
    },
    {
     "data": {
      "text/html": [
       "<div>\n",
       "<style scoped>\n",
       "    .dataframe tbody tr th:only-of-type {\n",
       "        vertical-align: middle;\n",
       "    }\n",
       "\n",
       "    .dataframe tbody tr th {\n",
       "        vertical-align: top;\n",
       "    }\n",
       "\n",
       "    .dataframe thead th {\n",
       "        text-align: right;\n",
       "    }\n",
       "</style>\n",
       "<table border=\"1\" class=\"dataframe\">\n",
       "  <thead>\n",
       "    <tr style=\"text-align: right;\">\n",
       "      <th></th>\n",
       "      <th>mean</th>\n",
       "      <th>sd</th>\n",
       "      <th>hpd_3%</th>\n",
       "      <th>hpd_97%</th>\n",
       "      <th>mcse_mean</th>\n",
       "      <th>mcse_sd</th>\n",
       "      <th>ess_mean</th>\n",
       "      <th>ess_sd</th>\n",
       "      <th>ess_bulk</th>\n",
       "      <th>ess_tail</th>\n",
       "      <th>r_hat</th>\n",
       "    </tr>\n",
       "  </thead>\n",
       "  <tbody>\n",
       "    <tr>\n",
       "      <th>ag[0]</th>\n",
       "      <td>-1.29</td>\n",
       "      <td>0.44</td>\n",
       "      <td>-2.17</td>\n",
       "      <td>-0.51</td>\n",
       "      <td>0.05</td>\n",
       "      <td>0.03</td>\n",
       "      <td>94.25</td>\n",
       "      <td>94.25</td>\n",
       "      <td>95.33</td>\n",
       "      <td>148.74</td>\n",
       "      <td>1.04</td>\n",
       "    </tr>\n",
       "    <tr>\n",
       "      <th>ag[1]</th>\n",
       "      <td>-1.15</td>\n",
       "      <td>0.45</td>\n",
       "      <td>-1.93</td>\n",
       "      <td>-0.27</td>\n",
       "      <td>0.05</td>\n",
       "      <td>0.03</td>\n",
       "      <td>95.21</td>\n",
       "      <td>95.21</td>\n",
       "      <td>96.47</td>\n",
       "      <td>147.94</td>\n",
       "      <td>1.04</td>\n",
       "    </tr>\n",
       "    <tr>\n",
       "      <th>ad[0]</th>\n",
       "      <td>0.14</td>\n",
       "      <td>0.48</td>\n",
       "      <td>-0.82</td>\n",
       "      <td>0.97</td>\n",
       "      <td>0.05</td>\n",
       "      <td>0.03</td>\n",
       "      <td>107.97</td>\n",
       "      <td>107.97</td>\n",
       "      <td>108.15</td>\n",
       "      <td>194.15</td>\n",
       "      <td>1.03</td>\n",
       "    </tr>\n",
       "    <tr>\n",
       "      <th>ad[1]</th>\n",
       "      <td>-0.19</td>\n",
       "      <td>0.46</td>\n",
       "      <td>-1.07</td>\n",
       "      <td>0.58</td>\n",
       "      <td>0.05</td>\n",
       "      <td>0.03</td>\n",
       "      <td>98.43</td>\n",
       "      <td>98.43</td>\n",
       "      <td>100.53</td>\n",
       "      <td>184.88</td>\n",
       "      <td>1.04</td>\n",
       "    </tr>\n",
       "    <tr>\n",
       "      <th>ad[2]</th>\n",
       "      <td>-0.42</td>\n",
       "      <td>0.47</td>\n",
       "      <td>-1.29</td>\n",
       "      <td>0.46</td>\n",
       "      <td>0.05</td>\n",
       "      <td>0.03</td>\n",
       "      <td>100.57</td>\n",
       "      <td>92.08</td>\n",
       "      <td>101.36</td>\n",
       "      <td>165.03</td>\n",
       "      <td>1.04</td>\n",
       "    </tr>\n",
       "    <tr>\n",
       "      <th>ad[3]</th>\n",
       "      <td>-0.47</td>\n",
       "      <td>0.48</td>\n",
       "      <td>-1.49</td>\n",
       "      <td>0.34</td>\n",
       "      <td>0.05</td>\n",
       "      <td>0.03</td>\n",
       "      <td>108.17</td>\n",
       "      <td>107.85</td>\n",
       "      <td>109.42</td>\n",
       "      <td>206.32</td>\n",
       "      <td>1.03</td>\n",
       "    </tr>\n",
       "    <tr>\n",
       "      <th>ad[4]</th>\n",
       "      <td>-0.53</td>\n",
       "      <td>0.45</td>\n",
       "      <td>-1.44</td>\n",
       "      <td>0.29</td>\n",
       "      <td>0.05</td>\n",
       "      <td>0.03</td>\n",
       "      <td>95.93</td>\n",
       "      <td>86.52</td>\n",
       "      <td>97.47</td>\n",
       "      <td>173.15</td>\n",
       "      <td>1.04</td>\n",
       "    </tr>\n",
       "    <tr>\n",
       "      <th>ad[5]</th>\n",
       "      <td>-0.20</td>\n",
       "      <td>0.47</td>\n",
       "      <td>-1.14</td>\n",
       "      <td>0.59</td>\n",
       "      <td>0.05</td>\n",
       "      <td>0.04</td>\n",
       "      <td>105.90</td>\n",
       "      <td>85.12</td>\n",
       "      <td>105.98</td>\n",
       "      <td>99.37</td>\n",
       "      <td>1.03</td>\n",
       "    </tr>\n",
       "    <tr>\n",
       "      <th>ad[6]</th>\n",
       "      <td>0.11</td>\n",
       "      <td>0.50</td>\n",
       "      <td>-0.81</td>\n",
       "      <td>1.07</td>\n",
       "      <td>0.05</td>\n",
       "      <td>0.03</td>\n",
       "      <td>115.65</td>\n",
       "      <td>115.65</td>\n",
       "      <td>115.85</td>\n",
       "      <td>198.68</td>\n",
       "      <td>1.03</td>\n",
       "    </tr>\n",
       "    <tr>\n",
       "      <th>ad[7]</th>\n",
       "      <td>-0.65</td>\n",
       "      <td>0.45</td>\n",
       "      <td>-1.48</td>\n",
       "      <td>0.18</td>\n",
       "      <td>0.05</td>\n",
       "      <td>0.03</td>\n",
       "      <td>96.22</td>\n",
       "      <td>88.16</td>\n",
       "      <td>97.66</td>\n",
       "      <td>158.26</td>\n",
       "      <td>1.03</td>\n",
       "    </tr>\n",
       "    <tr>\n",
       "      <th>ad[8]</th>\n",
       "      <td>-0.39</td>\n",
       "      <td>0.46</td>\n",
       "      <td>-1.27</td>\n",
       "      <td>0.48</td>\n",
       "      <td>0.05</td>\n",
       "      <td>0.03</td>\n",
       "      <td>101.40</td>\n",
       "      <td>100.00</td>\n",
       "      <td>101.32</td>\n",
       "      <td>183.62</td>\n",
       "      <td>1.03</td>\n",
       "    </tr>\n",
       "  </tbody>\n",
       "</table>\n",
       "</div>"
      ],
      "text/plain": [
       "       mean    sd  hpd_3%  hpd_97%  mcse_mean  mcse_sd  ess_mean  ess_sd  \\\n",
       "ag[0] -1.29  0.44   -2.17    -0.51       0.05     0.03     94.25   94.25   \n",
       "ag[1] -1.15  0.45   -1.93    -0.27       0.05     0.03     95.21   95.21   \n",
       "ad[0]  0.14  0.48   -0.82     0.97       0.05     0.03    107.97  107.97   \n",
       "ad[1] -0.19  0.46   -1.07     0.58       0.05     0.03     98.43   98.43   \n",
       "ad[2] -0.42  0.47   -1.29     0.46       0.05     0.03    100.57   92.08   \n",
       "ad[3] -0.47  0.48   -1.49     0.34       0.05     0.03    108.17  107.85   \n",
       "ad[4] -0.53  0.45   -1.44     0.29       0.05     0.03     95.93   86.52   \n",
       "ad[5] -0.20  0.47   -1.14     0.59       0.05     0.04    105.90   85.12   \n",
       "ad[6]  0.11  0.50   -0.81     1.07       0.05     0.03    115.65  115.65   \n",
       "ad[7] -0.65  0.45   -1.48     0.18       0.05     0.03     96.22   88.16   \n",
       "ad[8] -0.39  0.46   -1.27     0.48       0.05     0.03    101.40  100.00   \n",
       "\n",
       "       ess_bulk  ess_tail  r_hat  \n",
       "ag[0]     95.33    148.74   1.04  \n",
       "ag[1]     96.47    147.94   1.04  \n",
       "ad[0]    108.15    194.15   1.03  \n",
       "ad[1]    100.53    184.88   1.04  \n",
       "ad[2]    101.36    165.03   1.04  \n",
       "ad[3]    109.42    206.32   1.03  \n",
       "ad[4]     97.47    173.15   1.04  \n",
       "ad[5]    105.98     99.37   1.03  \n",
       "ad[6]    115.85    198.68   1.03  \n",
       "ad[7]     97.66    158.26   1.03  \n",
       "ad[8]    101.32    183.62   1.03  "
      ]
     },
     "execution_count": 15,
     "metadata": {},
     "output_type": "execute_result"
    }
   ],
   "source": [
    "with pm.Model() as q1m2:\n",
    "    ag = pm.Normal(\"ag\", 0, 1.5, shape=n_gender)\n",
    "    ad = pm.Normal(\"ad\", 0, 1.5, shape=n_disc)\n",
    "    p = pm.Deterministic(\"p\", pm.math.invlogit(ag[d2[\"gender_idx\"]] + ad[d2[\"disc_idx\"]]))\n",
    "    awards = pm.Binomial(\"awards\", p=p, n=d[\"applications\"], observed=d2[\"awards\"])\n",
    "    trace_q1m2 = pm.sample()\n",
    "    sum_q1m2 = pm.summary(trace_q1m2, var_names=[\"ag\", \"ad\"], round_to=2)\n",
    "sum_q1m2"
   ]
  },
  {
   "cell_type": "code",
   "execution_count": 16,
   "metadata": {},
   "outputs": [
    {
     "data": {
      "text/html": [
       "<div>\n",
       "<style scoped>\n",
       "    .dataframe tbody tr th:only-of-type {\n",
       "        vertical-align: middle;\n",
       "    }\n",
       "\n",
       "    .dataframe tbody tr th {\n",
       "        vertical-align: top;\n",
       "    }\n",
       "\n",
       "    .dataframe thead th {\n",
       "        text-align: right;\n",
       "    }\n",
       "</style>\n",
       "<table border=\"1\" class=\"dataframe\">\n",
       "  <thead>\n",
       "    <tr style=\"text-align: right;\">\n",
       "      <th></th>\n",
       "      <th>mean</th>\n",
       "      <th>sd</th>\n",
       "      <th>hpd_3%</th>\n",
       "      <th>hpd_97%</th>\n",
       "    </tr>\n",
       "  </thead>\n",
       "  <tbody>\n",
       "    <tr>\n",
       "      <th>diff_a</th>\n",
       "      <td>-0.14</td>\n",
       "      <td>0.10</td>\n",
       "      <td>-0.36</td>\n",
       "      <td>0.03</td>\n",
       "    </tr>\n",
       "    <tr>\n",
       "      <th>diff_p</th>\n",
       "      <td>-0.02</td>\n",
       "      <td>0.02</td>\n",
       "      <td>-0.07</td>\n",
       "      <td>0.01</td>\n",
       "    </tr>\n",
       "  </tbody>\n",
       "</table>\n",
       "</div>"
      ],
      "text/plain": [
       "        mean    sd  hpd_3%  hpd_97%\n",
       "diff_a -0.14  0.10   -0.36     0.03\n",
       "diff_p -0.02  0.02   -0.07     0.01"
      ]
     },
     "execution_count": 16,
     "metadata": {},
     "output_type": "execute_result"
    }
   ],
   "source": [
    "diff_a = trace_q1m2[\"ag\"][:, 0] - trace_q1m2[\"ag\"][:, 1]\n",
    "diff_p = logistic(trace_q1m2[\"ag\"][:, 0]) - logistic(trace_q1m2[\"ag\"][:, 1])\n",
    "az.summary({\"diff_a\": diff_a, \"diff_p\": diff_p}, kind=\"stats\", round_to=2)"
   ]
  },
  {
   "cell_type": "markdown",
   "metadata": {},
   "source": [
    "### Interpretation\n",
    "\n",
    "The effect of gender on award probability becomes negligible conditional on discipline."
   ]
  },
  {
   "cell_type": "markdown",
   "metadata": {},
   "source": [
    "## Question 2\n",
    "\n",
    ">Suppose that the NWO Grants sample has an unobserved confound that influences\n",
    "both choice of discipline and the probability of an award. One example of\n",
    "such a confound could be the career stage of each applicant. Suppose that in some\n",
    "disciplines, junior scholars apply for most of the grants. In other disciplines, scholars\n",
    "from all career stages compete. As a result, career stage influences discipline as\n",
    "well as the probability of being awarded a grant.\n",
    "Add these influences to your DAG from Problem 1. What happens now when you\n",
    "condition on discipline? Does it provide an un-confounded estimate of the direct\n",
    "path from gender to an award? Why or why not? Justify your answer with the\n",
    "back-door criterion. Hint: This is structurally a lot like the grandparents-parentschildren-\n",
    "neighborhoods example from a previous week.\n"
   ]
  },
  {
   "cell_type": "code",
   "execution_count": 17,
   "metadata": {},
   "outputs": [
    {
     "data": {
      "image/png": "[encoded data removed]",
      "text/plain": [
       "<Figure size 153.071x96.378 with 1 Axes>"
      ]
     },
     "metadata": {},
     "output_type": "display_data"
    }
   ],
   "source": [
    "q2dag = CausalGraphicalModel(\n",
    "    nodes=[\"G\", \"D\", \"A\", \"U\"], edges=[(\"G\", \"A\"), (\"G\", \"D\"), (\"D\", \"A\"), (\"U\", \"D\"), (\"U\", \"A\")]\n",
    ")\n",
    "pgm = daft.PGM()\n",
    "coordinates = {\"G\": (0, 0), \"D\": (1, 1), \"A\": (2, 0), \"U\": (2, 1)}\n",
    "for node in q2dag.dag.nodes:\n",
    "    pgm.add_node(node, node, *coordinates[node])\n",
    "for edge in q2dag.dag.edges:\n",
    "    pgm.add_edge(*edge)\n",
    "pgm.render();\n",
    "#plt.gca().invert_yaxis()"
   ]
  },
  {
   "cell_type": "markdown",
   "metadata": {},
   "source": [
    "### Response\n",
    "\n",
    "Conditioning on D opens a back door through `U` (the common cause fork)"
   ]
  },
  {
   "cell_type": "markdown",
   "metadata": {},
   "source": [
    "## Question 3\n",
    "\n",
    ">While one eagle feeds, sometimes another will swoop in and try to steal the salmon\n",
    "from it. Call the feeding eagle the “victim” and the thief the “pirate.” Use the available\n",
    "data to build one or more binomial GLMs of successful pirating attempts, using\n",
    "size and age as predictors. Consider any relevant interactions.\n",
    "1"
   ]
  },
  {
   "cell_type": "markdown",
   "metadata": {},
   "source": [
    "### Get eagle data\n",
    "The eagles data frame has 8 rows and 5 columns.\n",
    "\n",
    "y\n",
    "Number of successful attempts.\n",
    "\n",
    "n\n",
    "Total number of attempts.\n",
    "\n",
    "P\n",
    "Size of pirating eagle (L = large, S = small).\n",
    "\n",
    "A\n",
    "Age of pirating eagle (I = immature, A = adult).\n",
    "\n",
    "V\n",
    "Size of victim eagle (L = large, S = small)."
   ]
  },
  {
   "cell_type": "code",
   "execution_count": 18,
   "metadata": {},
   "outputs": [
    {
     "data": {
      "text/html": [
       "<div>\n",
       "<style scoped>\n",
       "    .dataframe tbody tr th:only-of-type {\n",
       "        vertical-align: middle;\n",
       "    }\n",
       "\n",
       "    .dataframe tbody tr th {\n",
       "        vertical-align: top;\n",
       "    }\n",
       "\n",
       "    .dataframe thead th {\n",
       "        text-align: right;\n",
       "    }\n",
       "</style>\n",
       "<table border=\"1\" class=\"dataframe\">\n",
       "  <thead>\n",
       "    <tr style=\"text-align: right;\">\n",
       "      <th></th>\n",
       "      <th>Unnamed: 0</th>\n",
       "      <th>y</th>\n",
       "      <th>n</th>\n",
       "      <th>P</th>\n",
       "      <th>A</th>\n",
       "      <th>V</th>\n",
       "    </tr>\n",
       "  </thead>\n",
       "  <tbody>\n",
       "    <tr>\n",
       "      <th>0</th>\n",
       "      <td>1</td>\n",
       "      <td>17</td>\n",
       "      <td>24</td>\n",
       "      <td>L</td>\n",
       "      <td>A</td>\n",
       "      <td>L</td>\n",
       "    </tr>\n",
       "    <tr>\n",
       "      <th>1</th>\n",
       "      <td>2</td>\n",
       "      <td>29</td>\n",
       "      <td>29</td>\n",
       "      <td>L</td>\n",
       "      <td>A</td>\n",
       "      <td>S</td>\n",
       "    </tr>\n",
       "    <tr>\n",
       "      <th>2</th>\n",
       "      <td>3</td>\n",
       "      <td>17</td>\n",
       "      <td>27</td>\n",
       "      <td>L</td>\n",
       "      <td>I</td>\n",
       "      <td>L</td>\n",
       "    </tr>\n",
       "    <tr>\n",
       "      <th>3</th>\n",
       "      <td>4</td>\n",
       "      <td>20</td>\n",
       "      <td>20</td>\n",
       "      <td>L</td>\n",
       "      <td>I</td>\n",
       "      <td>S</td>\n",
       "    </tr>\n",
       "    <tr>\n",
       "      <th>4</th>\n",
       "      <td>5</td>\n",
       "      <td>1</td>\n",
       "      <td>12</td>\n",
       "      <td>S</td>\n",
       "      <td>A</td>\n",
       "      <td>L</td>\n",
       "    </tr>\n",
       "  </tbody>\n",
       "</table>\n",
       "</div>"
      ],
      "text/plain": [
       "   Unnamed: 0   y   n  P  A  V\n",
       "0           1  17  24  L  A  L\n",
       "1           2  29  29  L  A  S\n",
       "2           3  17  27  L  I  L\n",
       "3           4  20  20  L  I  S\n",
       "4           5   1  12  S  A  L"
      ]
     },
     "execution_count": 18,
     "metadata": {},
     "output_type": "execute_result"
    }
   ],
   "source": [
    "eag = pd.read_csv(\"Data/eagles.csv\",\n",
    "               sep=\",\")\n",
    "eag.head()"
   ]
  },
  {
   "cell_type": "markdown",
   "metadata": {},
   "source": [
    "### Create index variables"
   ]
  },
  {
   "cell_type": "code",
   "execution_count": 19,
   "metadata": {},
   "outputs": [
    {
     "data": {
      "text/plain": [
       "(2, 2, 2)"
      ]
     },
     "execution_count": 19,
     "metadata": {},
     "output_type": "execute_result"
    }
   ],
   "source": [
    "eag[\"P\"] = eag[\"P\"].astype(\"category\")\n",
    "eag[\"A\"] = eag[\"A\"].astype(\"category\")\n",
    "eag[\"V\"] = eag[\"V\"].astype(\"category\")\n",
    "\n",
    "eag[\"P_idx\"] = eag[\"P\"].cat.codes\n",
    "eag[\"A_idx\"] = eag[\"A\"].cat.codes\n",
    "eag[\"V_idx\"] = eag[\"V\"].cat.codes\n",
    "n_P = len(eag[\"P\"].cat.categories)\n",
    "n_A = len(eag[\"A\"].cat.categories)\n",
    "n_V = len(eag[\"V\"].cat.categories)\n",
    "n_P, n_A, n_V"
   ]
  },
  {
   "cell_type": "markdown",
   "metadata": {},
   "source": [
    "### Reminder of mapping from indexes to values"
   ]
  },
  {
   "cell_type": "code",
   "execution_count": 20,
   "metadata": {},
   "outputs": [
    {
     "data": {
      "text/plain": [
       "{0: 'L', 1: 'S'}"
      ]
     },
     "execution_count": 20,
     "metadata": {},
     "output_type": "execute_result"
    }
   ],
   "source": [
    "dict(enumerate(eag[\"P\"].cat.categories))"
   ]
  },
  {
   "cell_type": "code",
   "execution_count": 21,
   "metadata": {},
   "outputs": [
    {
     "data": {
      "text/plain": [
       "{0: 'A', 1: 'I'}"
      ]
     },
     "execution_count": 21,
     "metadata": {},
     "output_type": "execute_result"
    }
   ],
   "source": [
    "dict(enumerate(eag[\"A\"].cat.categories))"
   ]
  },
  {
   "cell_type": "code",
   "execution_count": 22,
   "metadata": {},
   "outputs": [
    {
     "data": {
      "text/plain": [
       "{0: 'L', 1: 'S'}"
      ]
     },
     "execution_count": 22,
     "metadata": {},
     "output_type": "execute_result"
    }
   ],
   "source": [
    "dict(enumerate(eag[\"V\"].cat.categories))"
   ]
  },
  {
   "cell_type": "code",
   "execution_count": 23,
   "metadata": {},
   "outputs": [],
   "source": [
    "eag.drop(columns=[\"Unnamed: 0\", \"P\", \"A\", \"V\"], inplace=True)"
   ]
  },
  {
   "cell_type": "markdown",
   "metadata": {},
   "source": [
    "### Create model\n",
    "\n",
    "Using indexes for interactions"
   ]
  },
  {
   "cell_type": "code",
   "execution_count": 24,
   "metadata": {},
   "outputs": [
    {
     "name": "stderr",
     "output_type": "stream",
     "text": [
      "Auto-assigning NUTS sampler...\n",
      "Initializing NUTS using jitter+adapt_diag...\n",
      "Multiprocess sampling (2 chains in 2 jobs)\n",
      "NUTS: [a_AV, a_PV, a_V, a_P, a_A]\n",
      "Sampling 2 chains, 0 divergences: 100%|████████████████████████████████████████| 2000/2000 [00:10<00:00, 198.71draws/s]\n"
     ]
    },
    {
     "data": {
      "text/html": [
       "<div>\n",
       "<style scoped>\n",
       "    .dataframe tbody tr th:only-of-type {\n",
       "        vertical-align: middle;\n",
       "    }\n",
       "\n",
       "    .dataframe tbody tr th {\n",
       "        vertical-align: top;\n",
       "    }\n",
       "\n",
       "    .dataframe thead th {\n",
       "        text-align: right;\n",
       "    }\n",
       "</style>\n",
       "<table border=\"1\" class=\"dataframe\">\n",
       "  <thead>\n",
       "    <tr style=\"text-align: right;\">\n",
       "      <th></th>\n",
       "      <th>mean</th>\n",
       "      <th>sd</th>\n",
       "      <th>hpd_3%</th>\n",
       "      <th>hpd_97%</th>\n",
       "      <th>mcse_mean</th>\n",
       "      <th>mcse_sd</th>\n",
       "      <th>ess_mean</th>\n",
       "      <th>ess_sd</th>\n",
       "      <th>ess_bulk</th>\n",
       "      <th>ess_tail</th>\n",
       "      <th>r_hat</th>\n",
       "    </tr>\n",
       "  </thead>\n",
       "  <tbody>\n",
       "    <tr>\n",
       "      <th>a_P[0]</th>\n",
       "      <td>1.70</td>\n",
       "      <td>1.15</td>\n",
       "      <td>-0.43</td>\n",
       "      <td>3.88</td>\n",
       "      <td>0.03</td>\n",
       "      <td>0.02</td>\n",
       "      <td>1404.96</td>\n",
       "      <td>1136.47</td>\n",
       "      <td>1401.69</td>\n",
       "      <td>762.30</td>\n",
       "      <td>1.00</td>\n",
       "    </tr>\n",
       "    <tr>\n",
       "      <th>a_P[1]</th>\n",
       "      <td>-1.24</td>\n",
       "      <td>1.13</td>\n",
       "      <td>-3.16</td>\n",
       "      <td>1.12</td>\n",
       "      <td>0.03</td>\n",
       "      <td>0.03</td>\n",
       "      <td>1191.32</td>\n",
       "      <td>961.85</td>\n",
       "      <td>1187.57</td>\n",
       "      <td>593.13</td>\n",
       "      <td>1.00</td>\n",
       "    </tr>\n",
       "    <tr>\n",
       "      <th>a_A[0]</th>\n",
       "      <td>0.81</td>\n",
       "      <td>1.14</td>\n",
       "      <td>-1.12</td>\n",
       "      <td>3.03</td>\n",
       "      <td>0.03</td>\n",
       "      <td>0.03</td>\n",
       "      <td>1490.16</td>\n",
       "      <td>647.03</td>\n",
       "      <td>1463.59</td>\n",
       "      <td>640.07</td>\n",
       "      <td>1.00</td>\n",
       "    </tr>\n",
       "    <tr>\n",
       "      <th>a_A[1]</th>\n",
       "      <td>-0.35</td>\n",
       "      <td>1.10</td>\n",
       "      <td>-2.34</td>\n",
       "      <td>1.80</td>\n",
       "      <td>0.03</td>\n",
       "      <td>0.05</td>\n",
       "      <td>1045.80</td>\n",
       "      <td>249.92</td>\n",
       "      <td>1047.04</td>\n",
       "      <td>551.65</td>\n",
       "      <td>1.01</td>\n",
       "    </tr>\n",
       "    <tr>\n",
       "      <th>a_V[0]</th>\n",
       "      <td>-0.91</td>\n",
       "      <td>1.18</td>\n",
       "      <td>-3.08</td>\n",
       "      <td>1.35</td>\n",
       "      <td>0.04</td>\n",
       "      <td>0.03</td>\n",
       "      <td>1080.72</td>\n",
       "      <td>745.63</td>\n",
       "      <td>1081.91</td>\n",
       "      <td>645.96</td>\n",
       "      <td>1.00</td>\n",
       "    </tr>\n",
       "    <tr>\n",
       "      <th>a_V[1]</th>\n",
       "      <td>1.41</td>\n",
       "      <td>1.22</td>\n",
       "      <td>-0.65</td>\n",
       "      <td>3.93</td>\n",
       "      <td>0.03</td>\n",
       "      <td>0.03</td>\n",
       "      <td>1347.70</td>\n",
       "      <td>811.60</td>\n",
       "      <td>1339.53</td>\n",
       "      <td>730.58</td>\n",
       "      <td>1.00</td>\n",
       "    </tr>\n",
       "    <tr>\n",
       "      <th>a_PV[0,0]</th>\n",
       "      <td>0.16</td>\n",
       "      <td>1.21</td>\n",
       "      <td>-2.25</td>\n",
       "      <td>2.26</td>\n",
       "      <td>0.03</td>\n",
       "      <td>0.04</td>\n",
       "      <td>1502.61</td>\n",
       "      <td>527.68</td>\n",
       "      <td>1539.73</td>\n",
       "      <td>695.48</td>\n",
       "      <td>1.00</td>\n",
       "    </tr>\n",
       "    <tr>\n",
       "      <th>a_PV[0,1]</th>\n",
       "      <td>1.52</td>\n",
       "      <td>1.25</td>\n",
       "      <td>-1.04</td>\n",
       "      <td>3.55</td>\n",
       "      <td>0.03</td>\n",
       "      <td>0.03</td>\n",
       "      <td>1479.04</td>\n",
       "      <td>905.03</td>\n",
       "      <td>1473.85</td>\n",
       "      <td>775.22</td>\n",
       "      <td>1.00</td>\n",
       "    </tr>\n",
       "    <tr>\n",
       "      <th>a_PV[1,0]</th>\n",
       "      <td>-1.13</td>\n",
       "      <td>1.17</td>\n",
       "      <td>-3.35</td>\n",
       "      <td>0.91</td>\n",
       "      <td>0.03</td>\n",
       "      <td>0.03</td>\n",
       "      <td>1357.40</td>\n",
       "      <td>874.70</td>\n",
       "      <td>1353.48</td>\n",
       "      <td>857.87</td>\n",
       "      <td>1.00</td>\n",
       "    </tr>\n",
       "    <tr>\n",
       "      <th>a_PV[1,1]</th>\n",
       "      <td>-0.07</td>\n",
       "      <td>1.21</td>\n",
       "      <td>-2.20</td>\n",
       "      <td>2.35</td>\n",
       "      <td>0.03</td>\n",
       "      <td>0.04</td>\n",
       "      <td>1557.89</td>\n",
       "      <td>540.58</td>\n",
       "      <td>1557.83</td>\n",
       "      <td>775.22</td>\n",
       "      <td>1.00</td>\n",
       "    </tr>\n",
       "    <tr>\n",
       "      <th>a_AV[0,0]</th>\n",
       "      <td>-0.71</td>\n",
       "      <td>1.17</td>\n",
       "      <td>-2.81</td>\n",
       "      <td>1.47</td>\n",
       "      <td>0.04</td>\n",
       "      <td>0.03</td>\n",
       "      <td>1020.37</td>\n",
       "      <td>642.44</td>\n",
       "      <td>1033.49</td>\n",
       "      <td>546.40</td>\n",
       "      <td>1.00</td>\n",
       "    </tr>\n",
       "    <tr>\n",
       "      <th>a_AV[0,1]</th>\n",
       "      <td>1.50</td>\n",
       "      <td>1.16</td>\n",
       "      <td>-0.49</td>\n",
       "      <td>3.76</td>\n",
       "      <td>0.03</td>\n",
       "      <td>0.02</td>\n",
       "      <td>1415.63</td>\n",
       "      <td>1103.32</td>\n",
       "      <td>1415.95</td>\n",
       "      <td>882.00</td>\n",
       "      <td>1.00</td>\n",
       "    </tr>\n",
       "    <tr>\n",
       "      <th>a_AV[1,0]</th>\n",
       "      <td>-0.18</td>\n",
       "      <td>1.19</td>\n",
       "      <td>-2.37</td>\n",
       "      <td>2.08</td>\n",
       "      <td>0.03</td>\n",
       "      <td>0.05</td>\n",
       "      <td>1228.28</td>\n",
       "      <td>337.05</td>\n",
       "      <td>1231.33</td>\n",
       "      <td>597.92</td>\n",
       "      <td>1.00</td>\n",
       "    </tr>\n",
       "    <tr>\n",
       "      <th>a_AV[1,1]</th>\n",
       "      <td>-0.15</td>\n",
       "      <td>1.18</td>\n",
       "      <td>-2.18</td>\n",
       "      <td>2.21</td>\n",
       "      <td>0.03</td>\n",
       "      <td>0.05</td>\n",
       "      <td>1614.85</td>\n",
       "      <td>308.65</td>\n",
       "      <td>1621.48</td>\n",
       "      <td>431.16</td>\n",
       "      <td>1.01</td>\n",
       "    </tr>\n",
       "  </tbody>\n",
       "</table>\n",
       "</div>"
      ],
      "text/plain": [
       "           mean    sd  hpd_3%  hpd_97%  mcse_mean  mcse_sd  ess_mean   ess_sd  \\\n",
       "a_P[0]     1.70  1.15   -0.43     3.88       0.03     0.02   1404.96  1136.47   \n",
       "a_P[1]    -1.24  1.13   -3.16     1.12       0.03     0.03   1191.32   961.85   \n",
       "a_A[0]     0.81  1.14   -1.12     3.03       0.03     0.03   1490.16   647.03   \n",
       "a_A[1]    -0.35  1.10   -2.34     1.80       0.03     0.05   1045.80   249.92   \n",
       "a_V[0]    -0.91  1.18   -3.08     1.35       0.04     0.03   1080.72   745.63   \n",
       "a_V[1]     1.41  1.22   -0.65     3.93       0.03     0.03   1347.70   811.60   \n",
       "a_PV[0,0]  0.16  1.21   -2.25     2.26       0.03     0.04   1502.61   527.68   \n",
       "a_PV[0,1]  1.52  1.25   -1.04     3.55       0.03     0.03   1479.04   905.03   \n",
       "a_PV[1,0] -1.13  1.17   -3.35     0.91       0.03     0.03   1357.40   874.70   \n",
       "a_PV[1,1] -0.07  1.21   -2.20     2.35       0.03     0.04   1557.89   540.58   \n",
       "a_AV[0,0] -0.71  1.17   -2.81     1.47       0.04     0.03   1020.37   642.44   \n",
       "a_AV[0,1]  1.50  1.16   -0.49     3.76       0.03     0.02   1415.63  1103.32   \n",
       "a_AV[1,0] -0.18  1.19   -2.37     2.08       0.03     0.05   1228.28   337.05   \n",
       "a_AV[1,1] -0.15  1.18   -2.18     2.21       0.03     0.05   1614.85   308.65   \n",
       "\n",
       "           ess_bulk  ess_tail  r_hat  \n",
       "a_P[0]      1401.69    762.30   1.00  \n",
       "a_P[1]      1187.57    593.13   1.00  \n",
       "a_A[0]      1463.59    640.07   1.00  \n",
       "a_A[1]      1047.04    551.65   1.01  \n",
       "a_V[0]      1081.91    645.96   1.00  \n",
       "a_V[1]      1339.53    730.58   1.00  \n",
       "a_PV[0,0]   1539.73    695.48   1.00  \n",
       "a_PV[0,1]   1473.85    775.22   1.00  \n",
       "a_PV[1,0]   1353.48    857.87   1.00  \n",
       "a_PV[1,1]   1557.83    775.22   1.00  \n",
       "a_AV[0,0]   1033.49    546.40   1.00  \n",
       "a_AV[0,1]   1415.95    882.00   1.00  \n",
       "a_AV[1,0]   1231.33    597.92   1.00  \n",
       "a_AV[1,1]   1621.48    431.16   1.01  "
      ]
     },
     "execution_count": 24,
     "metadata": {},
     "output_type": "execute_result"
    }
   ],
   "source": [
    "with pm.Model() as q3m1:\n",
    "    a_A = pm.Normal(\"a_A\", 0, 1.5, shape=n_A)\n",
    "    a_P = pm.Normal(\"a_P\", 0, 1.5, shape=n_P)\n",
    "    a_V = pm.Normal(\"a_V\", 0, 1.5, shape=n_V)\n",
    "    a_PV = pm.Normal(\"a_PV\", 0, 1.5, shape=(n_P, n_V))\n",
    "    a_AV = pm.Normal(\"a_AV\", 0, 1.5, shape=(n_A, n_V))\n",
    "    p = pm.Deterministic(\"p\", pm.math.invlogit(a_P[eag[\"P_idx\"]] + a_A[eag[\"A_idx\"]] + \n",
    "                                               a_V[eag[\"V_idx\"]] + a_PV[eag[\"P_idx\"], eag[\"V_idx\"]] +\n",
    "                                               a_AV[eag[\"A_idx\"], eag[\"V_idx\"]]))\n",
    "    success = pm.Binomial(\"success\", p=p, n=eag[\"n\"], observed=eag[\"y\"])\n",
    "    trace_q3m1 = pm.sample()   \n",
    "    sum_q3m1 = az.summary(trace_q3m1, var_names=[\"a_P\", \"a_A\", \"a_V\", \"a_PV\", \"a_AV\"], round_to=2)\n",
    "sum_q3m1"
   ]
  },
  {
   "cell_type": "markdown",
   "metadata": {},
   "source": [
    "### Calculate some contrasts"
   ]
  },
  {
   "cell_type": "markdown",
   "metadata": {},
   "source": [
    "Pirate size:"
   ]
  },
  {
   "cell_type": "code",
   "execution_count": 25,
   "metadata": {},
   "outputs": [
    {
     "data": {
      "text/html": [
       "<div>\n",
       "<style scoped>\n",
       "    .dataframe tbody tr th:only-of-type {\n",
       "        vertical-align: middle;\n",
       "    }\n",
       "\n",
       "    .dataframe tbody tr th {\n",
       "        vertical-align: top;\n",
       "    }\n",
       "\n",
       "    .dataframe thead th {\n",
       "        text-align: right;\n",
       "    }\n",
       "</style>\n",
       "<table border=\"1\" class=\"dataframe\">\n",
       "  <thead>\n",
       "    <tr style=\"text-align: right;\">\n",
       "      <th></th>\n",
       "      <th>mean</th>\n",
       "      <th>sd</th>\n",
       "      <th>hpd_3%</th>\n",
       "      <th>hpd_97%</th>\n",
       "    </tr>\n",
       "  </thead>\n",
       "  <tbody>\n",
       "    <tr>\n",
       "      <th>diff_a</th>\n",
       "      <td>2.94</td>\n",
       "      <td>1.37</td>\n",
       "      <td>0.51</td>\n",
       "      <td>5.46</td>\n",
       "    </tr>\n",
       "    <tr>\n",
       "      <th>diff_p</th>\n",
       "      <td>0.53</td>\n",
       "      <td>0.22</td>\n",
       "      <td>0.12</td>\n",
       "      <td>0.87</td>\n",
       "    </tr>\n",
       "  </tbody>\n",
       "</table>\n",
       "</div>"
      ],
      "text/plain": [
       "        mean    sd  hpd_3%  hpd_97%\n",
       "diff_a  2.94  1.37    0.51     5.46\n",
       "diff_p  0.53  0.22    0.12     0.87"
      ]
     },
     "execution_count": 25,
     "metadata": {},
     "output_type": "execute_result"
    }
   ],
   "source": [
    "diff_a = trace_q3m1[\"a_P\"][:, 0] - trace_q3m1[\"a_P\"][:, 1]\n",
    "diff_p = logistic(trace_q3m1[\"a_P\"][:, 0]) - logistic(trace_q3m1[\"a_P\"][:, 1])\n",
    "az.summary({\"diff_a\": diff_a, \"diff_p\": diff_p}, kind=\"stats\", round_to=2)"
   ]
  },
  {
   "cell_type": "markdown",
   "metadata": {},
   "source": [
    "Pirate age:"
   ]
  },
  {
   "cell_type": "code",
   "execution_count": 26,
   "metadata": {},
   "outputs": [
    {
     "data": {
      "text/html": [
       "<div>\n",
       "<style scoped>\n",
       "    .dataframe tbody tr th:only-of-type {\n",
       "        vertical-align: middle;\n",
       "    }\n",
       "\n",
       "    .dataframe tbody tr th {\n",
       "        vertical-align: top;\n",
       "    }\n",
       "\n",
       "    .dataframe thead th {\n",
       "        text-align: right;\n",
       "    }\n",
       "</style>\n",
       "<table border=\"1\" class=\"dataframe\">\n",
       "  <thead>\n",
       "    <tr style=\"text-align: right;\">\n",
       "      <th></th>\n",
       "      <th>mean</th>\n",
       "      <th>sd</th>\n",
       "      <th>hpd_3%</th>\n",
       "      <th>hpd_97%</th>\n",
       "    </tr>\n",
       "  </thead>\n",
       "  <tbody>\n",
       "    <tr>\n",
       "      <th>diff_a</th>\n",
       "      <td>1.16</td>\n",
       "      <td>1.31</td>\n",
       "      <td>-1.37</td>\n",
       "      <td>3.55</td>\n",
       "    </tr>\n",
       "    <tr>\n",
       "      <th>diff_p</th>\n",
       "      <td>0.23</td>\n",
       "      <td>0.26</td>\n",
       "      <td>-0.23</td>\n",
       "      <td>0.71</td>\n",
       "    </tr>\n",
       "  </tbody>\n",
       "</table>\n",
       "</div>"
      ],
      "text/plain": [
       "        mean    sd  hpd_3%  hpd_97%\n",
       "diff_a  1.16  1.31   -1.37     3.55\n",
       "diff_p  0.23  0.26   -0.23     0.71"
      ]
     },
     "execution_count": 26,
     "metadata": {},
     "output_type": "execute_result"
    }
   ],
   "source": [
    "diff_a = trace_q3m1[\"a_A\"][:, 0] - trace_q3m1[\"a_A\"][:, 1]\n",
    "diff_p = logistic(trace_q3m1[\"a_A\"][:, 0]) - logistic(trace_q3m1[\"a_A\"][:, 1])\n",
    "az.summary({\"diff_a\": diff_a, \"diff_p\": diff_p}, kind=\"stats\", round_to=2)"
   ]
  },
  {
   "cell_type": "markdown",
   "metadata": {},
   "source": [
    "Victim size:"
   ]
  },
  {
   "cell_type": "code",
   "execution_count": 27,
   "metadata": {},
   "outputs": [
    {
     "data": {
      "text/html": [
       "<div>\n",
       "<style scoped>\n",
       "    .dataframe tbody tr th:only-of-type {\n",
       "        vertical-align: middle;\n",
       "    }\n",
       "\n",
       "    .dataframe tbody tr th {\n",
       "        vertical-align: top;\n",
       "    }\n",
       "\n",
       "    .dataframe thead th {\n",
       "        text-align: right;\n",
       "    }\n",
       "</style>\n",
       "<table border=\"1\" class=\"dataframe\">\n",
       "  <thead>\n",
       "    <tr style=\"text-align: right;\">\n",
       "      <th></th>\n",
       "      <th>mean</th>\n",
       "      <th>sd</th>\n",
       "      <th>hpd_3%</th>\n",
       "      <th>hpd_97%</th>\n",
       "    </tr>\n",
       "  </thead>\n",
       "  <tbody>\n",
       "    <tr>\n",
       "      <th>diff_a</th>\n",
       "      <td>-2.32</td>\n",
       "      <td>1.61</td>\n",
       "      <td>-5.15</td>\n",
       "      <td>0.85</td>\n",
       "    </tr>\n",
       "    <tr>\n",
       "      <th>diff_p</th>\n",
       "      <td>-0.42</td>\n",
       "      <td>0.27</td>\n",
       "      <td>-0.89</td>\n",
       "      <td>0.04</td>\n",
       "    </tr>\n",
       "  </tbody>\n",
       "</table>\n",
       "</div>"
      ],
      "text/plain": [
       "        mean    sd  hpd_3%  hpd_97%\n",
       "diff_a -2.32  1.61   -5.15     0.85\n",
       "diff_p -0.42  0.27   -0.89     0.04"
      ]
     },
     "execution_count": 27,
     "metadata": {},
     "output_type": "execute_result"
    }
   ],
   "source": [
    "diff_a = trace_q3m1[\"a_V\"][:, 0] - trace_q3m1[\"a_V\"][:, 1]\n",
    "diff_p = logistic(trace_q3m1[\"a_V\"][:, 0]) - logistic(trace_q3m1[\"a_V\"][:, 1])\n",
    "az.summary({\"diff_a\": diff_a, \"diff_p\": diff_p}, kind=\"stats\", round_to=2)"
   ]
  },
  {
   "cell_type": "markdown",
   "metadata": {},
   "source": [
    "Interaction of pirate size and victim size (large pirate versus large/small victim):"
   ]
  },
  {
   "cell_type": "code",
   "execution_count": 28,
   "metadata": {},
   "outputs": [
    {
     "data": {
      "text/html": [
       "<div>\n",
       "<style scoped>\n",
       "    .dataframe tbody tr th:only-of-type {\n",
       "        vertical-align: middle;\n",
       "    }\n",
       "\n",
       "    .dataframe tbody tr th {\n",
       "        vertical-align: top;\n",
       "    }\n",
       "\n",
       "    .dataframe thead th {\n",
       "        text-align: right;\n",
       "    }\n",
       "</style>\n",
       "<table border=\"1\" class=\"dataframe\">\n",
       "  <thead>\n",
       "    <tr style=\"text-align: right;\">\n",
       "      <th></th>\n",
       "      <th>mean</th>\n",
       "      <th>sd</th>\n",
       "      <th>hpd_3%</th>\n",
       "      <th>hpd_97%</th>\n",
       "    </tr>\n",
       "  </thead>\n",
       "  <tbody>\n",
       "    <tr>\n",
       "      <th>diff_a</th>\n",
       "      <td>-1.36</td>\n",
       "      <td>1.52</td>\n",
       "      <td>-4.62</td>\n",
       "      <td>1.18</td>\n",
       "    </tr>\n",
       "    <tr>\n",
       "      <th>diff_p</th>\n",
       "      <td>0.28</td>\n",
       "      <td>0.23</td>\n",
       "      <td>0.00</td>\n",
       "      <td>0.71</td>\n",
       "    </tr>\n",
       "  </tbody>\n",
       "</table>\n",
       "</div>"
      ],
      "text/plain": [
       "        mean    sd  hpd_3%  hpd_97%\n",
       "diff_a -1.36  1.52   -4.62     1.18\n",
       "diff_p  0.28  0.23    0.00     0.71"
      ]
     },
     "execution_count": 28,
     "metadata": {},
     "output_type": "execute_result"
    }
   ],
   "source": [
    "diff_a = trace_q3m1[\"a_PV\"][:, 0, 0] - trace_q3m1[\"a_PV\"][:, 0, 1]\n",
    "diff_p = logistic(trace_q3m1[\"a_PV\"][:, 0, 0] - trace_q3m1[\"a_PV\"][:, 0, 1])\n",
    "az.summary({\"diff_a\": diff_a, \"diff_p\": diff_p}, kind=\"stats\", round_to=2)"
   ]
  },
  {
   "cell_type": "markdown",
   "metadata": {},
   "source": [
    "Interaction of pirate age and victim size (experienced pirate versus large/small victim):"
   ]
  },
  {
   "cell_type": "code",
   "execution_count": 29,
   "metadata": {},
   "outputs": [
    {
     "data": {
      "text/html": [
       "<div>\n",
       "<style scoped>\n",
       "    .dataframe tbody tr th:only-of-type {\n",
       "        vertical-align: middle;\n",
       "    }\n",
       "\n",
       "    .dataframe tbody tr th {\n",
       "        vertical-align: top;\n",
       "    }\n",
       "\n",
       "    .dataframe thead th {\n",
       "        text-align: right;\n",
       "    }\n",
       "</style>\n",
       "<table border=\"1\" class=\"dataframe\">\n",
       "  <thead>\n",
       "    <tr style=\"text-align: right;\">\n",
       "      <th></th>\n",
       "      <th>mean</th>\n",
       "      <th>sd</th>\n",
       "      <th>hpd_3%</th>\n",
       "      <th>hpd_97%</th>\n",
       "    </tr>\n",
       "  </thead>\n",
       "  <tbody>\n",
       "    <tr>\n",
       "      <th>diff_a</th>\n",
       "      <td>-0.03</td>\n",
       "      <td>1.42</td>\n",
       "      <td>-2.73</td>\n",
       "      <td>2.44</td>\n",
       "    </tr>\n",
       "    <tr>\n",
       "      <th>diff_p</th>\n",
       "      <td>0.50</td>\n",
       "      <td>0.26</td>\n",
       "      <td>0.06</td>\n",
       "      <td>0.92</td>\n",
       "    </tr>\n",
       "  </tbody>\n",
       "</table>\n",
       "</div>"
      ],
      "text/plain": [
       "        mean    sd  hpd_3%  hpd_97%\n",
       "diff_a -0.03  1.42   -2.73     2.44\n",
       "diff_p  0.50  0.26    0.06     0.92"
      ]
     },
     "execution_count": 29,
     "metadata": {},
     "output_type": "execute_result"
    }
   ],
   "source": [
    "diff_a = trace_q3m1[\"a_AV\"][:, 1, 0] - trace_q3m1[\"a_AV\"][:, 1, 1]\n",
    "diff_p = logistic(trace_q3m1[\"a_AV\"][:, 1, 0] - trace_q3m1[\"a_AV\"][:, 1, 1])\n",
    "az.summary({\"diff_a\": diff_a, \"diff_p\": diff_p}, kind=\"stats\", round_to=2)"
   ]
  },
  {
   "cell_type": "markdown",
   "metadata": {},
   "source": [
    "### Interpretations\n",
    "\n",
    "1. large pirates are more successful\n",
    "1. older pirates more successful\n",
    "1. large victims are less likely to be poached successfully\n",
    "1. age/experience is meh\n",
    "1. interactions are hard to interpret but work the way you might think they would"
   ]
  },
  {
   "cell_type": "code",
   "execution_count": null,
   "metadata": {},
   "outputs": [],
   "source": []
  }
 ],
 "metadata": {
  "kernelspec": {
   "display_name": "Python 3",
   "language": "python",
   "name": "python3"
  },
  "language_info": {
   "codemirror_mode": {
    "name": "ipython",
    "version": 3
   },
   "file_extension": ".py",
   "mimetype": "text/x-python",
   "name": "python",
   "nbconvert_exporter": "python",
   "pygments_lexer": "ipython3",
   "version": "3.9.1"
  }
 },
 "nbformat": 4,
 "nbformat_minor": 4
}
